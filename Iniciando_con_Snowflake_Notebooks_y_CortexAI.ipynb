{
 "metadata": {
  "kernelspec": {
   "display_name": "Streamlit Notebook",
   "name": "streamlit"
  },
  "lastEditStatus": {
   "notebookId": "bdcqpus3bsvy6a2ic3ps",
   "authorId": "346180102309",
   "authorName": "JPARRADO",
   "authorEmail": "jorge.parrado@snowflake.com",
   "sessionId": "b0829117-319a-435b-8365-7bc651e7fabc",
   "lastEditTime": 1746601255501
  }
 },
 "nbformat_minor": 5,
 "nbformat": 4,
 "cells": [
  {
   "cell_type": "markdown",
   "id": "3775908f-ca36-4846-8f38-5adca39217f2",
   "metadata": {
    "collapsed": false,
    "name": "cell1"
   },
   "source": "# Una Guía de Inicio con Notebooks y Snowflake Cortex\n\n## Visión General\n\nComenzar con la IA en datos empresariales puede parecer abrumador, entre familiarizarse con LLMs, cómo realizar ingeniería de prompts personalizados, y cómo obtener una amplia gama de LLMs implementados/integrados para ejecutar múltiples pruebas, todo mientras se mantienen seguros esos valiosos datos empresariales. Bueno, muchas de estas complejidades se están abstrayendo para ti en Snowflake Cortex.\n\n### ¿Qué es Snowflake Cortex?\nSnowflake Cortex es un servicio inteligente y totalmente gestionado que ofrece soluciones de machine learning e IA a los usuarios de Snowflake. Las capacidades de Snowflake Cortex incluyen:\n\n* Funciones LLM: Funciones SQL y Python que aprovechan los modelos de lenguaje grandes (LLMs) para comprender, consultar, traducir, resumir y generar texto de forma libre.\n* Funciones ML: Funciones SQL que realizan análisis predictivos como la previsión y la detección de anomalías utilizando machine learning para ayudarte a obtener información sobre tus datos estructurados y acelerar el análisis diario.\n\nAprende más sobre [Snowflake Cortex](https://docs.snowflake.com/en/user-guide/snowflake-cortex/overview).\n\n\n### ¿Qué Aprenderás?\n\nCómo usar Snowflake Crotex y LLMs para tareas personalizadas como resumir texto de formato largo en salida formateada JSON usando ingeniería de prompts y funciones LLM específicas de la tarea de Snowflake Cortex para realizar operaciones como traducir texto entre idiomas o puntuar el sentimiento de un fragmento de texto.\n\n### ¿Qué Construirás?\n\nUna aplicación Streamlit interactiva que se ejecuta en Snowflake. Sin embargo, antes necesitaremos agregar: \n  `keras`,`numpy`, `prophet`, `sklearn-compat`\n\n"
  },
  {
   "cell_type": "markdown",
   "id": "7cfb7e7f-62b5-4540-ae45-7a651f875622",
   "metadata": {
    "collapsed": false,
    "name": "cell2"
   },
   "source": "## Configuración\n\nAntes de GenAI, mucha de la información estaba enterrada en formato de texto y, por lo tanto, infrautilizada para el análisis de causa raíz debido a las complejidades en la implementación del procesamiento del lenguaje natural. ¡Pero con Snowflake Cortex es tan fácil como escribir una declaración SQL!\n\nEn esta guía, utilizaremos datos sintéticos de transcripciones de llamadas, imitando fuentes de texto comúnmente pasadas por alto por las organizaciones, incluyendo llamadas/chats de clientes, encuestas, entrevistas y otros datos de texto generados en los equipos de marketing y ventas.\n\nCreemos la tabla y carguemos los datos.\n\n### Crear Tabla y Cargar Datos\n\n*Nota: Si utilizas nombres diferentes para los objetos creados en esta sección, asegúrate de actualizar los scripts y el código en las siguientes secciones en consecuencia.*"
  },
  {
   "cell_type": "code",
   "execution_count": null,
   "id": "10434224-0149-4966-8255-9f4b33f8ec2c",
   "metadata": {
    "codeCollapsed": false,
    "collapsed": false,
    "language": "sql",
    "name": "cell3"
   },
   "outputs": [],
   "source": "USE ROLE ACCOUNTADMIN;\n\nCREATE WAREHOUSE IF NOT EXISTS DASH_S WAREHOUSE_SIZE=SMALL;\nCREATE DATABASE IF NOT EXISTS DASH_DB;\nCREATE SCHEMA IF NOT EXISTS DASH_SCHEMA;\n\nUSE DASH_DB.DASH_SCHEMA;\nUSE WAREHOUSE DASH_S;\n\nCREATE or REPLACE file format csvformat\n  SKIP_HEADER = 1\n  FIELD_OPTIONALLY_ENCLOSED_BY = '\"'\n  type = 'CSV';\n\nCREATE or REPLACE stage call_transcripts_data_stage\n  file_format = csvformat\n  url = 's3://sfquickstarts/misc/call_transcripts/';\n\nCREATE or REPLACE table CALL_TRANSCRIPTS ( \n  date_created date,\n  language varchar(60),\n  country varchar(60),\n  product varchar(60),\n  category varchar(60),\n  damage_type varchar(90),\n  transcript varchar\n);\n\nCOPY into CALL_TRANSCRIPTS\n  from @call_transcripts_data_stage;"
  },
  {
   "cell_type": "markdown",
   "id": "17697a48-7366-471f-907b-1a05a2aae973",
   "metadata": {
    "collapsed": false,
    "name": "cell4"
   },
   "source": "## Snowflake Cortex\n\nDados los datos en la tabla `call_transcripts`, veamos cómo podemos usar Snowflake Cortex. Ofrece acceso a modelos de IA líderes en la industria, sin requerir ningún conocimiento de cómo funcionan los modelos de IA, cómo implementar LLMs o cómo administrar la infraestructura de GPU.\n\n### Traducir\nUsando la función de Snowflake Cortex **snowflake.cortex.translate** podemos traducir fácilmente cualquier texto de un idioma a otro. Veamos lo fácil que es usar esta función."
  },
  {
   "cell_type": "code",
   "execution_count": null,
   "id": "052a7128-c98f-4e09-9890-1272c1e84e38",
   "metadata": {
    "codeCollapsed": false,
    "collapsed": false,
    "language": "sql",
    "name": "cell5"
   },
   "outputs": [],
   "source": "select snowflake.cortex.translate('Dies ist ein Beweis dafür, wie es möglich ist, mehrere Sprachen zu übersetzen. In diesem Beispiel ist dieser Text in Deutsch und mit einem einfachen Aufruf einer Funktion in spanisch übersetzen.','de','es');"
  },
  {
   "cell_type": "markdown",
   "id": "1beb9fc1-29e1-4daf-a27d-44e3d35315a8",
   "metadata": {
    "name": "cell6",
    "collapsed": false
   },
   "source": "Ahora veamos cómo puedes traducir transcripciones de llamadas de inglés a español en modo batch usando solo SQL."
  },
  {
   "cell_type": "code",
   "id": "286adbd7-08f6-45ed-86d2-7809456395bf",
   "metadata": {
    "language": "sql",
    "name": "cell18"
   },
   "outputs": [],
   "source": "update CALL_TRANSCRIPTS\nset damage_type = snowflake.cortex.translate(damage_type,'en','es'),\n    transcript = snowflake.cortex.translate(transcript,'en','es'),\n    language = 'Español'\nwhere language='English'",
   "execution_count": null
  },
  {
   "cell_type": "code",
   "execution_count": null,
   "id": "b387a85f-c86c-4f34-98ff-5c7c32412853",
   "metadata": {
    "collapsed": false,
    "language": "sql",
    "name": "cell7",
    "codeCollapsed": false
   },
   "outputs": [],
   "source": "select *\nfrom call_transcripts \nwhere language = 'Español';"
  },
  {
   "cell_type": "markdown",
   "id": "8c00a2ea-2e77-44cb-bc35-459899821f4d",
   "metadata": {
    "collapsed": false,
    "name": "cell8"
   },
   "source": "### Puntuación de Sentimiento\nAhora veamos cómo podemos usar la función **snowflake.cortex.sentiment** para generar puntuaciones de sentimiento en las transcripciones de llamadas.\n\n*Nota: La puntuación está entre -1 y 1; -1 = más negativo, 1 = positivo, 0 = neutral*"
  },
  {
   "cell_type": "code",
   "execution_count": null,
   "id": "51a10e92-e157-4204-b4c5-c9c9e4901dd9",
   "metadata": {
    "collapsed": false,
    "language": "sql",
    "name": "cell9"
   },
   "outputs": [],
   "source": "select transcript, snowflake.cortex.sentiment(transcript) \nfrom call_transcripts \nwhere language = 'Español';"
  },
  {
   "cell_type": "markdown",
   "id": "d13b6fa3-ac0b-43d3-9a9b-1cb0d9ead25d",
   "metadata": {
    "collapsed": false,
    "name": "cell10"
   },
   "source": "### Resumir\nAhora que sabemos cómo traducir las transcripciones de llamadas al inglés, sería genial que el modelo extrajera los detalles más importantes de cada transcripción para que no tengamos que leerla entera. Veamos cómo la función **snowflake.cortex.summarize** puede hacer esto y probémosla en un registro."
  },
  {
   "cell_type": "code",
   "execution_count": null,
   "id": "cc1fc040-6fb8-4109-818d-769f25524931",
   "metadata": {
    "collapsed": false,
    "language": "sql",
    "name": "cell11"
   },
   "outputs": [],
   "source": "select transcript,snowflake.cortex.summarize(transcript) as summary \nfrom call_transcripts \nwhere language = 'Español' \nlimit 1;"
  },
  {
   "cell_type": "markdown",
   "id": "b1e76b67-ca12-49c9-a4b4-5fc5c9661d57",
   "metadata": {
    "collapsed": false,
    "name": "cell12"
   },
   "source": "### Resumen con conteo de tokens\n\n*Nota: Las funciones LLM de Snowflake Cortex incurren en costos de cómputo basados en el número de tokens procesados. Consulta la [tabla de consumo](https://www.snowflake.com/legal-files/CreditConsumptionTable.pdf#page=9) para el costo de cada función en créditos por millón de tokens.*"
  },
  {
   "cell_type": "code",
   "execution_count": null,
   "id": "0bb299d9-cf8e-425e-abe0-d31bae1583e2",
   "metadata": {
    "codeCollapsed": false,
    "collapsed": false,
    "language": "sql",
    "name": "cell13"
   },
   "outputs": [],
   "source": "\nselect transcript,\n       snowflake.cortex.complete('mistral-large',concat('resume en max. 30 palabras:',transcript)) as summary,\n       snowflake.cortex.count_tokens('mistral-large',concat('resume en max. 30 palabras:',transcript)) as number_of_tokens \nfrom call_transcripts \nwhere language = 'Español' \nlimit 10;"
  },
  {
   "cell_type": "code",
   "id": "acaacb96-bcb7-460c-b2c7-f90b1a6b0c57",
   "metadata": {
    "language": "sql",
    "name": "cell19"
   },
   "outputs": [],
   "source": "select \nsnowflake.cortex.complete('claude-3-5-sonnet',\n           concat('Arma un JSON, con los siguientes atributos: \n           resumen del problema en no más de 100 palabras, \n           sentimiento del cliente (negativo, neutro, positivo),\n           producto,\n           tiempo de resolución,\n           Solución otorgada (máximo 10 palabras).\n           Todo esto utilizando la transcripción de siguiente llamada: ',transcript) \n)\nfrom call_transcripts \nwhere language = 'Español'\nlimit 2;",
   "execution_count": null
  },
  {
   "cell_type": "markdown",
   "id": "1cf7b4df-b393-43e8-8528-727cb4642b94",
   "metadata": {
    "collapsed": false,
    "name": "cell22"
   },
   "source": "## Aplicación Streamlit\n\nAhora juntemos todo en una aplicación Streamlit."
  },
  {
   "cell_type": "code",
   "execution_count": null,
   "id": "3efa65d1-f4ea-4332-bd4f-518b55d9ce9b",
   "metadata": {
    "codeCollapsed": false,
    "collapsed": false,
    "language": "python",
    "name": "cell16"
   },
   "outputs": [],
   "source": "import streamlit as st\nfrom snowflake.snowpark.context import get_active_session\nsession = get_active_session()\n# Add a query tag to the session. This helps with performance monitoring and troubleshooting\nsession.query_tag = {\"origin\":\"sf_sit-is\", \n                     \"name\":\"aiml_notebooks_artic_cortex\", \n                     \"version\":{\"major\":1, \"minor\":0},\n                     \"attributes\":{\"is_quickstart\":1, \"source\":\"notebook\"}}\n\nsample_transcript = \"\"\"Cliente: ¡Hola!\nAgente: ¡Hola! Espero que esté teniendo un gran día. Para ayudarle mejor, ¿podría compartir su nombre y apellido y la empresa desde la que llama?\nCliente: Claro, soy Michael Green de SnowSolutions.\nAgente: ¡Gracias, Michael! ¿En qué puedo ayudarle hoy?\nCliente: Recientemente pedimos varias chaquetas DryProof670 para nuestra tienda, pero cuando abrimos el paquete, notamos que la mitad de las chaquetas tienen cremalleras rotas. Necesitamos reemplazarlas rápidamente para asegurarnos de tener suficiente stock para nuestros clientes. Nuestro número de pedido es 60877.\nAgente: Pido disculpas por el inconveniente, Michael. Permítame revisar su pedido. Podría tardar un momento.\nCliente: Gracias.\"\"\"\n\ndef process_request(req,txt):\n    with st.status(\"En progreso...\") as status:\n        txt = txt.replace(\"'\", \"\\\\'\")\n        cortex_response = ''\n        if req == 'Sentimiento':\n            cortex_response = session.sql(f\"select snowflake.cortex.sentiment('{txt}') as sentiment\").to_pandas().iloc[0]['SENTIMENT']\n            st.caption(\"Nota: Puntaje entre -1 y 1; -1 = Negativo, 1 = Positivo, 0 = Neutral\")  \n        elif req == 'Resumir':\n            prompt = f\"Resume esta transcripción en menos de 200 palabras. Incluye el nombre del producto, el defecto (si lo hay) y el resumen en formato JSON: {txt}\"\n            cortex_prompt = \"'[INST] \" + prompt + \" [/INST]'\"\n            cortex_response = session.sql(f\"select snowflake.cortex.complete('snowflake-arctic', {cortex_prompt}) as summary\").to_pandas().iloc[0]['SUMMARY']\n        else:\n            cortex_response = session.sql(f\"\"\"select snowflake.cortex.complete('mistral-large',concat('Traducir al {to_language} el siguiente texto: ','{txt}')) \n                                            as translation\"\"\").to_pandas().iloc[0]['TRANSLATION']\n        st.write(cortex_response)\n    status.update(label=\"Done!\", state=\"complete\", expanded=True)\n\nwith st.container():\n    entered_text = st.text_area(\"Enter text\",height=200,value=sample_transcript)\n    col1,col2,col3 = st.columns(3)\n\n    with col1:\n        st.subheader(\"JSON Summary\")\n        btn_summarize = st.button(\"Resumir\")\n        if entered_text and btn_summarize:\n            process_request('Resumir',entered_text)\n            \n    with col2:\n        st.subheader(\"Analisis de sentimientos\")\n        btn_sentiment = st.button(\"Calificar el sentimiento\")\n        if entered_text and btn_sentiment:\n            process_request('Sentimiento',entered_text)\n                \n    with col3:\n        st.subheader(\"Traducir\")\n        supported_languages = {'German':'de','French':'fr','Korean':'ko','Portuguese':'pt','English':'en','Italian':'it','Russian':'ru','Swedish':'sv','Spanish':'es','Japanese':'ja','Polish':'pl'}\n        col_to,col_from = st.columns(2)\n        to_language = st.selectbox('Idioma destino:',dict(sorted(supported_languages.items())))\n        btn_translate = st.button(\"Translate\")\n        if entered_text and btn_translate:\n            process_request('translate',entered_text)"
  },
  {
   "cell_type": "markdown",
   "id": "87b1c748-a785-40f2-9cb4-f8bf9e620945",
   "metadata": {
    "collapsed": false,
    "name": "cell21"
   },
   "source": "## Conclusión y Recursos\n\n¡Felicitaciones! Has completado con éxito la guía de inicio rápido de Comenzando con Snowflake Notebooks y Snowflake Cortex.\n\n### Lo Que Aprendiste\n\n- Cómo usar Snowflake Cortex para tareas personalizadas como resumir, traducir, analizar sentimientos, crear formatos. El poder \n- Cómo construir una aplicación Streamlit interactiva que se ejecuta en Snowflake.\n\n### Recursos Relacionados\n\n- [Snowflake Cortex: Visión General](https://docs.snowflake.com/en/user-guide/snowflake-cortex/overview)\n- [Snowflake Cortex: Funciones LLM](https://docs.snowflake.com/user-guide/snowflake-cortex/llm-functions)\n- [Snowflake Cortex: Consideraciones de Costo de Funciones LLM](https://docs.snowflake.com/user-guide/snowflake-cortex/llm-functions#cost-considerations) y [Tabla de Consumo](https://www.snowflake.com/legal-files/CreditConsumptionTable.pdf#page=9)\n- [Snowflake Cortex: Funciones ML](https://docs.snowflake.com/en/guides-overview-ml-functions)\n- [Snowflake Arctic: Hugging Face](https://huggingface.co/Snowflake/snowflake-arctic-instruct)\n- [Snowflake Arctic: Cookbooks](https://www.snowflake.com/en/data-cloud/arctic/cookbook/)\n- [Snowflake Arctic: Benchmarks](https://www.snowflake.com/blog/arctic-open-efficient-foundation-language-models-snowflake/)\n- [Snowflake Arctic: Repositorio GitHub](https://github.com/Snowflake-Labs/snowflake-arctic)\n ## Extra!
[Listado de LLMs](https://docs.snowflake.com/en/user-guide/snowflake-cortex/llm-functions#availability), utilies para multiples tareas enfocadas en texto.

[Listado de LMMs](https://docs.snowflake.com/en/user-guide/snowflake-cortex/complete-multimodal#model-limitations), útiles para tareas como: Comparación de imágenes, Subtítulos, Clasificación de imágenes o Extraer entidades de imágenes."
  },
  {
   "cell_type": "markdown",
   "id": "ef8c1f24-bb71-4670-a50f-d7229aa75dfd",
   "metadata": {
    "collapsed": false,
    "name": "cell17"
   },
   "source": []
  }
 ]
}
