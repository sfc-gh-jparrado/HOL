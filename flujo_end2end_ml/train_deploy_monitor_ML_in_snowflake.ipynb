{
 "cells": [
  {
   "cell_type": "markdown",
   "id": "e79ae8e5-aec2-4276-9443-074c3a614142",
   "metadata": {
    "collapsed": false,
    "name": "INTRO_MD"
   },
   "source": [
    "# ❄️ Demo ML de Extremo a Extremo ❄️\n",
    "\n",
    "En este flujo de trabajo trabajaremos a través de los siguientes elementos de un pipeline típico de machine learning tabular.\n",
    "\n",
    "### 1. Usar Feature Store para rastrear características diseñadas\n",
    "* Almacenar definiciones de características en feature store para cómputo reproducible de características ML\n",
    "      \n",
    "### 2. Entrenar dos modelos usando las APIs de Snowflake ML\n",
    "* XGboost de línea base\n",
    "* XGboost con hiperparámetros óptimos identificados mediante métodos HPO distribuidos de Snowflake ML\n",
    "\n",
    "### 3. Registrar ambos modelos en el model registry de Snowflake\n",
    "* Explorar capacidades del model registry como **seguimiento de metadatos, inferencia y explicabilidad**\n",
    "* Comparar métricas del modelo en conjuntos de entrenamiento/prueba para identificar problemas de rendimiento del modelo o sobreajuste\n",
    "* Etiquetar la versión del modelo con mejor rendimiento como versión 'default'\n",
    "### 4. Configurar Model Monitor para rastrear 1 año de pagos de préstamos predichos y reales\n",
    "* **Calcular métricas de rendimiento** como F1, Precision, Recall\n",
    "* **Inspeccionar model drift** (es decir, cuánto ha cambiado la tasa de reembolso promedio predicha día a día)\n",
    "* **Comparar modelos** lado a lado para entender qué modelo debe usarse en producción\n",
    "* Identificar y comprender **problemas de datos**\n",
    "\n",
    "### 5. Rastrear el linaje de datos y modelos a lo largo del proceso\n",
    "* Ver y comprender\n",
    "  * El **origen de los datos** utilizados para características calculadas\n",
    "  * Los **datos utilizados** para entrenamiento del modelo\n",
    "  * Las **versiones de modelo disponibles** que están siendo monitoreadas"
   ]
  },
  {
   "cell_type": "code",
   "execution_count": null,
   "id": "a2512cb5-15ae-40b2-84c7-8a44a9979670",
   "metadata": {
    "codeCollapsed": false,
    "collapsed": true,
    "language": "python",
    "name": "pip_installs"
   },
   "outputs": [],
   "source": [
    "!pip install shap snowflake-ml-python==1.11.0"
   ]
  },
  {
   "cell_type": "code",
   "execution_count": null,
   "id": "d78265b8-8baa-4136-a32a-32f3f620949d",
   "metadata": {
    "codeCollapsed": false,
    "collapsed": false,
    "language": "python",
    "name": "set_version_num_and_vars"
   },
   "outputs": [],
   "source": [
    "#Actualiza este VERSION_NUM para versionar tus características, modelos, etc!\n",
    "VERSION_NUM = '0'\n",
    "DB = \"E2E_SNOW_MLOPS_DB\" \n",
    "SCHEMA = \"MLOPS_SCHEMA\" \n",
    "COMPUTE_WAREHOUSE = \"E2E_SNOW_MLOPS_WH\" "
   ]
  },
  {
   "cell_type": "code",
   "execution_count": null,
   "id": "ce110000-1111-2222-3333-ffffff000000",
   "metadata": {
    "codeCollapsed": false,
    "collapsed": false,
    "language": "python",
    "name": "imports_and_session",
    "resultHeight": 84
   },
   "outputs": [],
   "source": [
    "import pandas as pd\n",
    "import numpy as np\n",
    "import sklearn\n",
    "import math\n",
    "import pickle\n",
    "import shap\n",
    "from datetime import datetime\n",
    "import streamlit as st\n",
    "from xgboost import XGBClassifier\n",
    "\n",
    "# Snowpark ML\n",
    "from snowflake.ml.registry import Registry\n",
    "from snowflake.ml.modeling.tune import get_tuner_context\n",
    "from snowflake.ml.modeling import tune\n",
    "from entities import search_algorithm\n",
    "\n",
    "#Snowflake feature store\n",
    "from snowflake.ml.feature_store import FeatureStore, FeatureView, Entity, CreationMode\n",
    "\n",
    "# Snowpark session\n",
    "from snowflake.snowpark import DataFrame\n",
    "from snowflake.snowpark.functions import col, to_timestamp, min, max, month, dayofweek, dayofyear, avg, date_add, sql_expr\n",
    "from snowflake.snowpark.types import IntegerType\n",
    "from snowflake.snowpark import Window\n",
    "\n",
    "#configurar sesión snowpark\n",
    "from snowflake.snowpark.context import get_active_session\n",
    "session = get_active_session()\n",
    "session"
   ]
  },
  {
   "cell_type": "code",
   "execution_count": null,
   "id": "f8900d1d-a1f2-419b-ae7e-b194f268d904",
   "metadata": {
    "codeCollapsed": false,
    "collapsed": false,
    "language": "python",
    "name": "read_raw_data",
    "resultHeight": 223
   },
   "outputs": [],
   "source": [
    "try:\n",
    "    print(\"Leyendo datos de tabla...\")\n",
    "    df = session.table(\"MORTGAGE_LENDING_DEMO_DATA\")\n",
    "    df.show(5)\n",
    "except:\n",
    "    print(\"¡Tabla no encontrada! Cargando datos a tabla snowflake\")\n",
    "    df_pandas = pd.read_csv(\"MORTGAGE_LENDING_DEMO_DATA.csv.zip\")\n",
    "    session.write_pandas(df_pandas, \"MORTGAGE_LENDING_DEMO_DATA\", auto_create_table=True)\n",
    "    df = session.table(\"MORTGAGE_LENDING_DEMO_DATA\")\n",
    "    df.show(5)"
   ]
  },
  {
   "cell_type": "markdown",
   "id": "60938b6f-bda7-4783-ae44-547bd34d98de",
   "metadata": {
    "collapsed": false,
    "name": "md1"
   },
   "source": [
    "## Observar las propiedades de tabla Snowpark de Snowflake"
   ]
  },
  {
   "cell_type": "code",
   "execution_count": null,
   "id": "a6654de7-6407-4ffe-a214-fd66078397ef",
   "metadata": {
    "codeCollapsed": false,
    "collapsed": false,
    "language": "python",
    "name": "see_timespan",
    "resultHeight": 111
   },
   "outputs": [],
   "source": [
    "df.select(min('TS'), max('TS'))"
   ]
  },
  {
   "cell_type": "code",
   "execution_count": null,
   "id": "4b5a38cc-c479-4839-b0ae-9e5cb3e0facb",
   "metadata": {
    "codeCollapsed": false,
    "language": "python",
    "name": "find_timedelta"
   },
   "outputs": [],
   "source": [
    "#Obtener fecha y hora actual\n",
    "current_time = datetime.now()\n",
    "df_max_time = datetime.strptime(str(df.select(max(\"TS\")).collect()[0][0]), \"%Y-%m-%d %H:%M:%S.%f\")\n",
    "\n",
    "#Encontrar delta entre el timestamp existente más reciente y la fecha de hoy\n",
    "timedelta = current_time- df_max_time\n",
    "\n",
    "#Actualizar timestamps para representar el último ~1 año desde la fecha de hoy\n",
    "df.select(min(date_add(to_timestamp(\"TS\"), timedelta.days-1)), max(date_add(to_timestamp(\"TS\"), timedelta.days-1)))"
   ]
  },
  {
   "cell_type": "markdown",
   "id": "8aa46c7d-519b-422c-8932-9b031fc6b4bd",
   "metadata": {
    "collapsed": false,
    "name": "feat_eng_md"
   },
   "source": [
    "## Ingeniería de Características con APIs Snowpark"
   ]
  },
  {
   "cell_type": "code",
   "execution_count": null,
   "id": "b355c0c4-9dc6-4faf-86b7-24d8d559e453",
   "metadata": {
    "codeCollapsed": false,
    "collapsed": false,
    "language": "python",
    "name": "define_features",
    "resultHeight": 0
   },
   "outputs": [],
   "source": [
    "#Crear un diccionario con claves para nombres de características y valores conteniendo código de transformación\n",
    "\n",
    "feature_eng_dict = dict()\n",
    "\n",
    "#Características de timestamp\n",
    "feature_eng_dict[\"TIMESTAMP\"] = date_add(to_timestamp(\"TS\"), timedelta.days-1)\n",
    "feature_eng_dict[\"MONTH\"] = month(\"TIMESTAMP\")\n",
    "feature_eng_dict[\"DAY_OF_YEAR\"] = dayofyear(\"TIMESTAMP\") \n",
    "feature_eng_dict[\"DOTW\"] = dayofweek(\"TIMESTAMP\")\n",
    "\n",
    "# df= df.with_columns(feature_eng_dict.keys(), feature_eng_dict.values())\n",
    "\n",
    "#Características de ingreso y préstamo\n",
    "feature_eng_dict[\"LOAN_AMOUNT\"] = col(\"LOAN_AMOUNT_000s\")*1000\n",
    "feature_eng_dict[\"INCOME\"] = col(\"APPLICANT_INCOME_000s\")*1000\n",
    "feature_eng_dict[\"INCOME_LOAN_RATIO\"] = col(\"INCOME\")/col(\"LOAN_AMOUNT\")\n",
    "\n",
    "county_window_spec = Window.partition_by(\"COUNTY_NAME\")\n",
    "feature_eng_dict[\"MEAN_COUNTY_INCOME\"] = avg(\"INCOME\").over(county_window_spec)\n",
    "feature_eng_dict[\"HIGH_INCOME_FLAG\"] = (col(\"INCOME\")>col(\"MEAN_COUNTY_INCOME\")).astype(IntegerType())\n",
    "\n",
    "feature_eng_dict[\"AVG_THIRTY_DAY_LOAN_AMOUNT\"] =  sql_expr(\"\"\"AVG(LOAN_AMOUNT) OVER (PARTITION BY COUNTY_NAME ORDER BY TIMESTAMP  \n",
    "                                                            RANGE BETWEEN INTERVAL '30 DAYS' PRECEDING AND CURRENT ROW)\"\"\")\n",
    "\n",
    "df = df.with_columns(feature_eng_dict.keys(), feature_eng_dict.values())\n",
    "df.show(3)"
   ]
  },
  {
   "cell_type": "code",
   "execution_count": null,
   "id": "b6c4ead8-25ac-46cc-9bd9-17eac2f796d5",
   "metadata": {
    "codeCollapsed": false,
    "collapsed": false,
    "language": "python",
    "name": "df_explain",
    "resultHeight": 312
   },
   "outputs": [],
   "source": [
    "df.explain()"
   ]
  },
  {
   "cell_type": "markdown",
   "id": "72d7645e-e0ac-4539-b132-54ce53431402",
   "metadata": {
    "collapsed": false,
    "name": "feature_store_markdown"
   },
   "source": [
    "## Crear un Feature Store de Snowflake"
   ]
  },
  {
   "cell_type": "code",
   "execution_count": null,
   "id": "abacdc71-9f2c-419f-8d50-3e8f89be367f",
   "metadata": {
    "codeCollapsed": false,
    "collapsed": false,
    "language": "python",
    "name": "define_feature_store",
    "resultHeight": 0
   },
   "outputs": [],
   "source": [
    "fs = FeatureStore(\n",
    "    session=session, \n",
    "    database=DB, \n",
    "    name=SCHEMA, \n",
    "    default_warehouse=COMPUTE_WAREHOUSE,\n",
    "    creation_mode=CreationMode.CREATE_IF_NOT_EXIST\n",
    ")"
   ]
  },
  {
   "cell_type": "code",
   "execution_count": null,
   "id": "67480d6a-183f-4373-aaa8-d3ed8e80e11d",
   "metadata": {
    "codeCollapsed": false,
    "collapsed": false,
    "language": "python",
    "name": "list_entities",
    "resultHeight": 111
   },
   "outputs": [],
   "source": [
    "fs.list_entities()"
   ]
  },
  {
   "cell_type": "markdown",
   "id": "d915406f-e52d-4baf-9f6c-b9e0e8d53e6e",
   "metadata": {
    "collapsed": false,
    "name": "FS_CONFIG_MD"
   },
   "source": [
    "## Configuración de Feature Store\n",
    "- crear/registrar entidades de interés"
   ]
  },
  {
   "cell_type": "code",
   "execution_count": null,
   "id": "e91d6d39-7819-4825-8729-a3f19ca5cdf7",
   "metadata": {
    "codeCollapsed": false,
    "collapsed": false,
    "language": "python",
    "name": "load_or_register_entity",
    "resultHeight": 38
   },
   "outputs": [],
   "source": [
    "#Primero intenta recuperar una definición de entidad existente, si no, define una nueva y regístrala\n",
    "try:\n",
    "    #recuperar entidad existente\n",
    "    loan_id_entity = fs.get_entity('LOAN_ENTITY') \n",
    "    print('Retrieved existing entity')\n",
    "except:\n",
    "#definir nueva entidad\n",
    "    loan_id_entity = Entity(\n",
    "        name = \"LOAN_ENTITY\",\n",
    "        join_keys = [\"LOAN_ID\"],\n",
    "        desc = \"Features defined on a per loan level\")\n",
    "    #registrar\n",
    "    fs.register_entity(loan_id_entity)\n",
    "    print(\"Registered new entity\")"
   ]
  },
  {
   "cell_type": "code",
   "execution_count": null,
   "id": "2820463f-0ea7-43ea-a500-9b034011887d",
   "metadata": {
    "codeCollapsed": false,
    "collapsed": false,
    "language": "python",
    "name": "create_feature_df",
    "resultHeight": 217
   },
   "outputs": [],
   "source": [
    "#Crear un dataframe con solo el ID, timestamp y características diseñadas. Usaremos esto para definir nuestro feature view\n",
    "feature_df = df.select([\"LOAN_ID\"]+list(feature_eng_dict.keys()))\n",
    "feature_df.show(5)"
   ]
  },
  {
   "cell_type": "markdown",
   "id": "5cf84fe3-4120-4092-b43d-8873da57d461",
   "metadata": {
    "collapsed": false,
    "name": "FS_MD"
   },
   "source": [
    "Aquí, el feature store referencia una tabla existente. \n",
    "\n",
    "También podríamos definir el dataframe mediante el uso de APIs Snowpark, y usar ese dataframe (o una función que retorna un dataframe) como definición del feature view, a continuación."
   ]
  },
  {
   "cell_type": "code",
   "execution_count": null,
   "id": "2b53364f-90c4-45b4-94ee-b2fde6f93475",
   "metadata": {
    "codeCollapsed": false,
    "collapsed": false,
    "language": "python",
    "name": "feature_veiw_creation",
    "resultHeight": 0
   },
   "outputs": [],
   "source": [
    "#definir y registrar feature view\n",
    "loan_fv = FeatureView(\n",
    "    name=\"Mortgage_Feature_View\",\n",
    "    entities=[loan_id_entity],\n",
    "    feature_df=feature_df,\n",
    "    timestamp_col=\"TIMESTAMP\",\n",
    "    refresh_freq=\"1 day\")\n",
    "\n",
    "#agregar descripciones a nivel de característica\n",
    "\n",
    "loan_fv = loan_fv.attach_feature_desc(\n",
    "    {\n",
    "        \"MONTH\": \"Mes del préstamo\",\n",
    "        \"DAY_OF_YEAR\": \"Día del año calendario del préstamo\",\n",
    "        \"DOTW\": \"Día de la semana del préstamo\",\n",
    "        \"LOAN_AMOUNT\": \"Monto del préstamo en $USD\",\n",
    "        \"INCOME\": \"Ingreso del hogar en $USD\",\n",
    "        \"INCOME_LOAN_RATIO\": \"Ratio de LOAN_AMOUNT/INCOME\",\n",
    "        \"MEAN_COUNTY_INCOME\": \"Ingreso promedio del hogar agregado a nivel de condado\",\n",
    "        \"HIGH_INCOME_FLAG\": \"Bandera binaria para indicar si el ingreso del hogar es mayor que MEAN_COUNTY_INCOME\",\n",
    "        \"AVG_THIRTY_DAY_LOAN_AMOUNT\": \"Promedio móvil de 30 días de LOAN_AMOUNT\"\n",
    "    }\n",
    ")\n",
    "\n",
    "loan_fv = fs.register_feature_view(loan_fv, version=VERSION_NUM, overwrite=True)"
   ]
  },
  {
   "cell_type": "code",
   "execution_count": null,
   "id": "18c3225b-b936-4aa7-81f2-27bbaeee1c0f",
   "metadata": {
    "codeCollapsed": false,
    "collapsed": false,
    "language": "python",
    "name": "show_feature_views",
    "resultHeight": 111
   },
   "outputs": [],
   "source": [
    "fs.list_feature_views()"
   ]
  },
  {
   "cell_type": "code",
   "execution_count": null,
   "id": "0f7a1aae-0bd2-4aad-b9ed-3347fc56b6ea",
   "metadata": {
    "codeCollapsed": false,
    "language": "python",
    "name": "create_feature_store_link"
   },
   "outputs": [],
   "source": [
    "#Crear enlace a la UI del feature store para inspeccionar el feature view recién creado!\n",
    "org_name = session.sql('SELECT CURRENT_ORGANIZATION_NAME()').collect()[0][0]\n",
    "account_name = session.sql('SELECT CURRENT_ACCOUNT_NAME()').collect()[0][0]\n",
    "\n",
    "st.write(f'https://app.snowflake.com/{org_name}/{account_name}/#/features/database/{DB}/store/{SCHEMA}')"
   ]
  },
  {
   "cell_type": "markdown",
   "id": "e96ff67f-bb04-40cb-8c14-11b5ebb2917d",
   "metadata": {
    "collapsed": false,
    "name": "FV_MD"
   },
   "source": [
    "## Recuperar un Dataset del featureview\n",
    "\n",
    "Los Datasets de Snowflake son objetos inmutables basados en archivos que existen dentro de tu sesión Snowpark. \n",
    "\n",
    "Pueden ser escritos a objetos persistentes de Snowflake según sea necesario. "
   ]
  },
  {
   "cell_type": "code",
   "execution_count": null,
   "id": "535efc80-e4fc-41c5-98eb-5b5450bcf199",
   "metadata": {
    "codeCollapsed": false,
    "collapsed": false,
    "language": "python",
    "name": "generate_dataset",
    "resultHeight": 0
   },
   "outputs": [],
   "source": [
    "ds = fs.generate_dataset(\n",
    "    name=f\"MORTGAGE_DATASET_EXTENDED_FEATURES_{VERSION_NUM}\",\n",
    "    spine_df=df.select(\"LOAN_ID\", \"TIMESTAMP\", \"LOAN_PURPOSE_NAME\",\"MORTGAGERESPONSE\"), #only need the features used to fetch rest of feature view\n",
    "    features=[loan_fv],\n",
    "    spine_timestamp_col=\"TIMESTAMP\",\n",
    "    spine_label_cols=[\"MORTGAGERESPONSE\"]\n",
    ")"
   ]
  },
  {
   "cell_type": "code",
   "execution_count": null,
   "id": "ecdaa537-3fb9-476c-9153-3236edfdfcb3",
   "metadata": {
    "codeCollapsed": false,
    "collapsed": false,
    "language": "python",
    "name": "convert_dataset_to_snowpark_and_pandas",
    "resultHeight": 239
   },
   "outputs": [],
   "source": [
    "ds_sp = ds.read.to_snowpark_dataframe()\n",
    "ds_sp.show(5)"
   ]
  },
  {
   "cell_type": "code",
   "execution_count": null,
   "id": "b5e17036-7a69-4915-b025-49c900aeb46b",
   "metadata": {
    "codeCollapsed": false,
    "collapsed": false,
    "language": "python",
    "name": "one_hot_encoding",
    "resultHeight": 360
   },
   "outputs": [],
   "source": [
    "import snowflake.ml.modeling.preprocessing as snowml\n",
    "from snowflake.snowpark.types import StringType\n",
    "\n",
    "OHE_COLS = ds_sp.select([col.name for col in ds_sp.schema if col.datatype ==StringType()]).columns\n",
    "OHE_POST_COLS = [i+\"_OHE\" for i in OHE_COLS]\n",
    "\n",
    "\n",
    "# Codificar categóricas a columnas numéricas\n",
    "snowml_ohe = snowml.OneHotEncoder(input_cols=OHE_COLS, output_cols = OHE_COLS, drop_input_cols=True)\n",
    "ds_sp_ohe = snowml_ohe.fit(ds_sp).transform(ds_sp)\n",
    "\n",
    "#Renombrar columnas para evitar comillas anidadas dobles y caracteres de espacio en blanco\n",
    "rename_dict = {}\n",
    "for i in ds_sp_ohe.columns:\n",
    "    if '\"' in i:\n",
    "        rename_dict[i] = i.replace('\"','').replace(' ', '_')\n",
    "\n",
    "ds_sp_ohe = ds_sp_ohe.rename(rename_dict)\n",
    "ds_sp_ohe.columns"
   ]
  },
  {
   "cell_type": "code",
   "execution_count": null,
   "id": "d834f6f3-ce15-405e-8fec-1d1bb5c224a6",
   "metadata": {
    "codeCollapsed": false,
    "collapsed": false,
    "language": "python",
    "name": "train_test_split",
    "resultHeight": 0
   },
   "outputs": [],
   "source": [
    "train, test = ds_sp_ohe.random_split(weights=[0.70, 0.30], seed=0)"
   ]
  },
  {
   "cell_type": "code",
   "execution_count": null,
   "id": "a8ff103e-5314-4e95-87ba-d784b1102f36",
   "metadata": {
    "codeCollapsed": false,
    "collapsed": false,
    "language": "python",
    "name": "fill_na",
    "resultHeight": 0
   },
   "outputs": [],
   "source": [
    "train = train.fillna(0)\n",
    "test = test.fillna(0)"
   ]
  },
  {
   "cell_type": "code",
   "execution_count": null,
   "id": "c917df7f-e277-4fbb-abf5-1a4433367e3b",
   "metadata": {
    "codeCollapsed": false,
    "collapsed": false,
    "language": "python",
    "name": "convert_data_to_pandas"
   },
   "outputs": [],
   "source": [
    "train_pd = train.to_pandas()\n",
    "test_pd = test.to_pandas()"
   ]
  },
  {
   "cell_type": "markdown",
   "id": "38c05dc9-2efb-4c5f-995a-486ef926c6c5",
   "metadata": {
    "collapsed": false,
    "name": "model_training_md"
   },
   "source": [
    "## Entrenamiento del Modelo\n",
    "### A continuación definiremos y ajustaremos un clasificador xgboost como nuestro modelo de línea base y evaluaremos el rendimiento\n",
    "##### Nota: esto se hace completamente con frameworks OSS"
   ]
  },
  {
   "cell_type": "code",
   "execution_count": null,
   "id": "5e4b5fba-b7a8-47ff-aaf6-076b9e78dcaf",
   "metadata": {
    "codeCollapsed": false,
    "collapsed": false,
    "language": "python",
    "name": "define_model",
    "resultHeight": 0
   },
   "outputs": [],
   "source": [
    "#Definir configuración del modelo\n",
    "xgb_base = XGBClassifier(\n",
    "    max_depth=50,\n",
    "    n_estimators=3,\n",
    "    learning_rate = 0.75,\n",
    "    booster = 'gbtree')"
   ]
  },
  {
   "cell_type": "code",
   "execution_count": null,
   "id": "644f3295-2496-4fd0-ae95-922a78c5b944",
   "metadata": {
    "codeCollapsed": false,
    "collapsed": false,
    "language": "python",
    "name": "train_base_model",
    "resultHeight": 1759
   },
   "outputs": [],
   "source": [
    "#Dividir datos de entrenamiento en X, y\n",
    "X_train_pd = train_pd.drop([\"TIMESTAMP\", \"LOAN_ID\", \"MORTGAGERESPONSE\"],axis=1) #remover\n",
    "y_train_pd = train_pd.MORTGAGERESPONSE\n",
    "\n",
    "#entrenar modelo\n",
    "xgb_base.fit(X_train_pd,y_train_pd)"
   ]
  },
  {
   "cell_type": "code",
   "execution_count": null,
   "id": "0c5ac861-fcf9-47b2-9c11-ec44ee2367e4",
   "metadata": {
    "codeCollapsed": false,
    "collapsed": false,
    "language": "python",
    "name": "compute_predictions_and_perf_metrics"
   },
   "outputs": [],
   "source": [
    "from sklearn.metrics import f1_score, precision_score, recall_score\n",
    "train_preds_base = xgb_base.predict(X_train_pd) #actualizar esta línea con datos correctos\n",
    "\n",
    "f1_base_train = round(f1_score(y_train_pd, train_preds_base),4)\n",
    "precision_base_train = round(precision_score(y_train_pd, train_preds_base),4)\n",
    "recall_base_train = round(recall_score(y_train_pd, train_preds_base),4)\n",
    "\n",
    "print(f'F1: {f1_base_train} \\nPrecision {precision_base_train} \\nRecall: {recall_base_train}')"
   ]
  },
  {
   "cell_type": "markdown",
   "id": "93777778-d2ba-42d5-88c4-a90ba18c5006",
   "metadata": {
    "collapsed": false,
    "name": "model_regisry_md",
    "resultHeight": 74
   },
   "source": [
    "# Model Registry\n",
    "\n",
    "- Registrar modelos con metadatos importantes\n",
    "- Gestionar ciclos de vida de modelos\n",
    "- Servir modelos desde runtimes de Snowflake"
   ]
  },
  {
   "cell_type": "code",
   "execution_count": null,
   "id": "21678e59-deaf-4c2b-b01e-1c59fe31b10a",
   "metadata": {
    "codeCollapsed": false,
    "collapsed": false,
    "language": "python",
    "name": "define_model_registry",
    "resultHeight": 0
   },
   "outputs": [],
   "source": [
    "#Crear un objeto model registry de snowflake \n",
    "from snowflake.ml.registry import Registry\n",
    "\n",
    "# Definir nombre del modelo\n",
    "model_name = f\"MORTGAGE_LENDING_MLOPS_{VERSION_NUM}\"\n",
    "\n",
    "# Crear un registry para registrar el modelo\n",
    "model_registry = Registry(session=session, \n",
    "                          database_name=DB, \n",
    "                          schema_name=SCHEMA,\n",
    "                          options={\"enable_monitoring\": True})"
   ]
  },
  {
   "cell_type": "code",
   "execution_count": null,
   "id": "be41c3ac-49f0-4fd9-a557-9d8eb633f602",
   "metadata": {
    "codeCollapsed": false,
    "collapsed": false,
    "language": "python",
    "name": "register_model_version",
    "resultHeight": 229
   },
   "outputs": [],
   "source": [
    "#Registrar el modelo base en el model registry (si no está ya allí)\n",
    "base_version_name = 'XGB_BASE'\n",
    "\n",
    "try:\n",
    "    #Verificar modelo existente\n",
    "    mv_base = model_registry.get_model(model_name).version(base_version_name)\n",
    "    print(\"Found existing model version!\")\n",
    "except:\n",
    "    print(\"Logging new model version...\")\n",
    "    #Registrar modelo en el registry\n",
    "    mv_base = model_registry.log_model(\n",
    "        model_name=model_name,\n",
    "        model=xgb_base, \n",
    "        version_name=base_version_name,\n",
    "        sample_input_data = train.drop([\"TIMESTAMP\", \"LOAN_ID\", \"MORTGAGERESPONSE\"]).limit(100), #usar snowpark df para mantener linaje\n",
    "        comment = f\"\"\"Modelo ML para predecir probabilidad de aprobación de préstamo.\n",
    "                    Este modelo fue entrenado usando clasificador XGBoost.\n",
    "                    Los hiperparámetros usados fueron:\n",
    "                    max_depth={xgb_base.max_depth}, \n",
    "                    n_estimators={xgb_base.n_estimators}, \n",
    "                    learning_rate = {xgb_base.learning_rate}, \n",
    "                    algorithm = {xgb_base.booster}\n",
    "                    \"\"\",\n",
    "        target_platforms= [\"WAREHOUSE\", \"SNOWPARK_CONTAINER_SERVICES\"],\n",
    "        options= {\"enable_explainability\": True}\n",
    "\n",
    "    )\n",
    "    \n",
    "    #establecer métricas\n",
    "    mv_base.set_metric(metric_name=\"Train_F1_Score\", value=f1_base_train)\n",
    "    mv_base.set_metric(metric_name=\"Train_Precision_Score\", value=precision_base_train)\n",
    "    mv_base.set_metric(metric_name=\"Train_Recall_score\", value=recall_base_train)"
   ]
  },
  {
   "cell_type": "code",
   "execution_count": null,
   "id": "68e2ddab-b02a-4e05-8121-4e97e49e0eea",
   "metadata": {
    "codeCollapsed": false,
    "language": "python",
    "name": "create_prod_tag"
   },
   "outputs": [],
   "source": [
    "#Crear tag para modelo PROD\n",
    "session.sql(\"CREATE OR REPLACE TAG PROD\")"
   ]
  },
  {
   "cell_type": "code",
   "execution_count": null,
   "id": "9e0054df-0cd9-4e81-98b8-6564be86b4b9",
   "metadata": {
    "codeCollapsed": false,
    "language": "python",
    "name": "create_PROD_tag"
   },
   "outputs": [],
   "source": [
    "#Aplicar tag prod \n",
    "m = model_registry.get_model(model_name)\n",
    "m.comment = \"Modelos de predicción de aprobación de préstamos\" #establecer comentario a nivel de modelo\n",
    "m.set_tag(\"PROD\", base_version_name)\n",
    "m.show_tags()"
   ]
  },
  {
   "cell_type": "code",
   "execution_count": null,
   "id": "ac4e294e-929d-4399-b2bb-d5d2d1dd043e",
   "metadata": {
    "codeCollapsed": false,
    "collapsed": false,
    "language": "python",
    "name": "show_models",
    "resultHeight": 111
   },
   "outputs": [],
   "source": [
    "model_registry.show_models()"
   ]
  },
  {
   "cell_type": "code",
   "execution_count": null,
   "id": "e3dfb281-9751-48a1-a76e-43ffffd9d099",
   "metadata": {
    "codeCollapsed": false,
    "collapsed": false,
    "language": "python",
    "name": "show_model_versions",
    "resultHeight": 146
   },
   "outputs": [],
   "source": [
    "model_registry.get_model(model_name).show_versions()"
   ]
  },
  {
   "cell_type": "code",
   "execution_count": null,
   "id": "eb1af8a1-7a92-455e-b9a1-8f2c699dfdeb",
   "metadata": {
    "codeCollapsed": false,
    "collapsed": false,
    "language": "python",
    "name": "print_model_version_and_metrics",
    "resultHeight": 239
   },
   "outputs": [],
   "source": [
    "print(mv_base)\n",
    "print(mv_base.show_metrics())"
   ]
  },
  {
   "cell_type": "code",
   "execution_count": null,
   "id": "8ecdf05c-b3b5-4755-bdff-fd187ef07f58",
   "metadata": {
    "codeCollapsed": false,
    "collapsed": false,
    "language": "python",
    "name": "show_model_functions",
    "resultHeight": 2133
   },
   "outputs": [],
   "source": [
    "mv_base.show_functions()"
   ]
  },
  {
   "cell_type": "code",
   "execution_count": null,
   "id": "bf495261-a8a7-46be-b9c8-3f099268d154",
   "metadata": {
    "codeCollapsed": false,
    "collapsed": false,
    "language": "python",
    "name": "predict_from_registry",
    "resultHeight": 351
   },
   "outputs": [],
   "source": [
    "reg_preds = mv_base.run(test, function_name = \"predict\").rename(col('\"output_feature_0\"'), \"MORTGAGE_PREDICTION\")\n",
    "reg_preds.show(10)"
   ]
  },
  {
   "cell_type": "code",
   "execution_count": null,
   "id": "9ef61447-10e7-4a38-a429-3da3facf9ce7",
   "metadata": {
    "codeCollapsed": false,
    "collapsed": false,
    "language": "python",
    "name": "compute_test_metrics"
   },
   "outputs": [],
   "source": [
    "#ds_sp_ohe = ds_sp_ohe.rename(col('\"LOAN_PURPOSE_NAME_Home improvement\"'), \"LOAN_PURPOSE_NAME_Home_improvement\")\n",
    "\n",
    "preds_pd = reg_preds.select([\"MORTGAGERESPONSE\", \"MORTGAGE_PREDICTION\"]).to_pandas()\n",
    "f1_base_test = round(f1_score(preds_pd.MORTGAGERESPONSE, preds_pd.MORTGAGE_PREDICTION),4)\n",
    "precision_base_test = round(precision_score(preds_pd.MORTGAGERESPONSE, preds_pd.MORTGAGE_PREDICTION),4)\n",
    "recall_base_test = round(recall_score(preds_pd.MORTGAGERESPONSE, preds_pd.MORTGAGE_PREDICTION),4)\n",
    "\n",
    "#registrar métricas en el modelo del model registry\n",
    "mv_base.set_metric(metric_name=\"Test_F1_Score\", value=f1_base_test)\n",
    "mv_base.set_metric(metric_name=\"Test_Precision_Score\", value=precision_base_test)\n",
    "mv_base.set_metric(metric_name=\"Test_Recall_score\", value=recall_base_test)\n",
    "\n",
    "print(f'F1: {f1_base_test} \\nPrecision {precision_base_test} \\nRecall: {recall_base_test}')"
   ]
  },
  {
   "cell_type": "markdown",
   "id": "9b477885-35ce-486d-9e86-7d0cc9d48454",
   "metadata": {
    "collapsed": false,
    "name": "HPO_MD"
   },
   "source": [
    "# ¡Oh no! El rendimiento de nuestro modelo parece haber caído significativamente del entrenamiento a nuestro conjunto de prueba. \n",
    "## Esto es evidencia de que nuestro modelo está sobreajustado - ¿podemos arreglar esto con Optimización de Hiperparámetros Distribuida??"
   ]
  },
  {
   "cell_type": "code",
   "execution_count": null,
   "id": "c47e068d-7e1d-4c74-8289-d03ea8ab3c7e",
   "metadata": {
    "collapsed": false,
    "language": "python",
    "name": "setup_x_and_y"
   },
   "outputs": [],
   "source": [
    "X_train = train.drop(\"MORTGAGERESPONSE\", \"TIMESTAMP\", \"LOAN_ID\")\n",
    "y_train = train.select(\"MORTGAGERESPONSE\")\n",
    "X_test = test.drop(\"MORTGAGERESPONSE\",\"TIMESTAMP\", \"LOAN_ID\")\n",
    "y_test = test.select(\"MORTGAGERESPONSE\")"
   ]
  },
  {
   "cell_type": "code",
   "execution_count": null,
   "id": "fff76e05-38f5-47cf-ab5d-9eefed09bd71",
   "metadata": {
    "codeCollapsed": false,
    "collapsed": false,
    "language": "python",
    "name": "define_HPO_config"
   },
   "outputs": [],
   "source": [
    "from snowflake.ml.data import DataConnector\n",
    "from snowflake.ml.modeling.tune import get_tuner_context\n",
    "from snowflake.ml.modeling import tune\n",
    "from entities import search_algorithm\n",
    "import psutil\n",
    "\n",
    "#Definir mapa de dataset\n",
    "dataset_map = {\n",
    "    \"x_train\": DataConnector.from_dataframe(X_train),\n",
    "    \"y_train\": DataConnector.from_dataframe(y_train),\n",
    "    \"x_test\": DataConnector.from_dataframe(X_test),\n",
    "    \"y_test\": DataConnector.from_dataframe(y_test)\n",
    "    }\n",
    "\n",
    "\n",
    "# Definir una función de entrenamiento, con cualquier modelo que elijas dentro de ella.\n",
    "def train_func():\n",
    "    # Un objeto de contexto proporcionado por la API HPO para exponer datos para la prueba HPO actual\n",
    "    tuner_context = get_tuner_context()\n",
    "    config = tuner_context.get_hyper_params()\n",
    "    dm = tuner_context.get_dataset_map()\n",
    "\n",
    "    model = XGBClassifier(**config, random_state=42)\n",
    "    model.fit(dm[\"x_train\"].to_pandas().sort_index(), dm[\"y_train\"].to_pandas().sort_index())\n",
    "    f1_metric = f1_score(\n",
    "        dm[\"y_train\"].to_pandas().sort_index(), model.predict(dm[\"x_train\"].to_pandas().sort_index())\n",
    "    )\n",
    "    tuner_context.report(metrics={\"f1_score\": f1_metric}, model=model)\n",
    "\n",
    "tuner = tune.Tuner(\n",
    "    train_func=train_func,\n",
    "    search_space={\n",
    "        \"max_depth\": tune.randint(1, 10),\n",
    "        \"learning_rate\": tune.uniform(0.01, 0.1),\n",
    "        \"n_estimators\": tune.randint(50, 100),\n",
    "    },\n",
    "    tuner_config=tune.TunerConfig(\n",
    "        metric=\"f1_score\",\n",
    "        mode=\"max\",\n",
    "        search_alg=search_algorithm.RandomSearch(random_state=101),\n",
    "        num_trials=8, #ejecutar 8 ejecuciones de prueba\n",
    "        max_concurrent_trials=psutil.cpu_count(logical=False) # Usar todas las CPUs disponibles para ejecutar HPO distribuido. ¡GPUs también pueden ser usadas aquí! \n",
    "    ),\n",
    ")"
   ]
  },
  {
   "cell_type": "code",
   "execution_count": null,
   "id": "14b88e99-9d2a-44cd-81f9-d53fd1321daf",
   "metadata": {
    "codeCollapsed": false,
    "collapsed": false,
    "language": "python",
    "name": "run_hpo"
   },
   "outputs": [],
   "source": [
    "#Entrenar varios modelos candidatos (nota: esto puede tomar 1-2 minutos)\n",
    "tuner_results = tuner.run(dataset_map=dataset_map)"
   ]
  },
  {
   "cell_type": "code",
   "execution_count": null,
   "id": "9ee37c42-3de7-476a-b7c0-d56952dac385",
   "metadata": {
    "codeCollapsed": false,
    "collapsed": false,
    "language": "python",
    "name": "inspect_hpo_params"
   },
   "outputs": [],
   "source": [
    "#Seleccionar mejores resultados del modelo e inspeccionar configuración\n",
    "tuned_model = tuner_results.best_model\n",
    "tuned_model"
   ]
  },
  {
   "cell_type": "code",
   "execution_count": null,
   "id": "94b4a6c2-674e-4d02-afdb-8ebf10cffdc4",
   "metadata": {
    "codeCollapsed": false,
    "collapsed": false,
    "language": "python",
    "name": "compute_hpo_train_predictions_and_metrics"
   },
   "outputs": [],
   "source": [
    "#Generar predicciones\n",
    "xgb_opt_preds = tuned_model.predict(train_pd.drop([\"TIMESTAMP\", \"LOAN_ID\", \"MORTGAGERESPONSE\"],axis=1))\n",
    "\n",
    "#Generar métricas de rendimiento\n",
    "f1_opt_train = round(f1_score(train_pd.MORTGAGERESPONSE, xgb_opt_preds),4)\n",
    "precision_opt_train = round(precision_score(train_pd.MORTGAGERESPONSE, xgb_opt_preds),4)\n",
    "recall_opt_train = round(recall_score(train_pd.MORTGAGERESPONSE, xgb_opt_preds),4)\n",
    "\n",
    "print(f'Resultados de Entrenamiento: \\nF1: {f1_opt_train} \\nPrecision {precision_opt_train} \\nRecall: {recall_opt_train}')"
   ]
  },
  {
   "cell_type": "code",
   "execution_count": null,
   "id": "dee80c48-d521-4b77-8841-54ba35ecd4b6",
   "metadata": {
    "codeCollapsed": false,
    "collapsed": false,
    "language": "python",
    "name": "compute_hpo_test_predictions_and_metrics"
   },
   "outputs": [],
   "source": [
    "#Generar predicciones de prueba\n",
    "xgb_opt_preds_test = tuned_model.predict(test_pd.drop([\"TIMESTAMP\", \"LOAN_ID\", \"MORTGAGERESPONSE\"],axis=1))\n",
    "\n",
    "#Generar métricas de rendimiento en datos de prueba\n",
    "f1_opt_test = round(f1_score(test_pd.MORTGAGERESPONSE, xgb_opt_preds_test),4)\n",
    "precision_opt_test = round(precision_score(test_pd.MORTGAGERESPONSE, xgb_opt_preds_test),4)\n",
    "recall_opt_test = round(recall_score(test_pd.MORTGAGERESPONSE, xgb_opt_preds_test),4)\n",
    "\n",
    "print(f'Resultados de Prueba: \\nF1: {f1_opt_test} \\nPrecision {precision_opt_test} \\nRecall: {recall_opt_test}')"
   ]
  },
  {
   "cell_type": "markdown",
   "id": "89a1a670-52e3-4d77-ac3a-db830e22fdcf",
   "metadata": {
    "collapsed": false,
    "name": "HPO_performance_reaction"
   },
   "source": [
    "# Aquí vemos que el modelo HPO tiene una precisión de entrenamiento más modesta que nuestro modelo base - pero el rendimiento no cae durante las pruebas"
   ]
  },
  {
   "cell_type": "code",
   "execution_count": null,
   "id": "d501cf7d-4965-4b9f-8b16-edab897d0e18",
   "metadata": {
    "collapsed": false,
    "language": "python",
    "name": "log_hpo_model"
   },
   "outputs": [],
   "source": [
    "#Registrar el modelo optimizado en el model registry (si no está ya allí)\n",
    "optimized_version_name = 'XGB_Optimized'\n",
    "\n",
    "try:\n",
    "    #Verificar modelo existente\n",
    "    mv_opt = model_registry.get_model(model_name).version(optimized_version_name)\n",
    "    print(\"Found existing model version!\")\n",
    "except:\n",
    "    #Registrar modelo en el registry\n",
    "    print(\"Logging new model version...\")\n",
    "    mv_opt = model_registry.log_model(\n",
    "        model_name=model_name,\n",
    "        model=tuned_model, \n",
    "        version_name=optimized_version_name,\n",
    "        sample_input_data = train.drop([\"TIMESTAMP\", \"LOAN_ID\", \"MORTGAGERESPONSE\"]).limit(100),\n",
    "        comment = f\"\"\"Modelo ML HPO para predecir probabilidad de aprobación de préstamo.\n",
    "            Este modelo fue entrenado usando clasificador XGBoost.\n",
    "            Los hiperparámetros optimizados usados fueron:\n",
    "            max_depth={tuned_model.max_depth}, \n",
    "            n_estimators={tuned_model.n_estimators}, \n",
    "            learning_rate = {tuned_model.learning_rate}, \n",
    "            \"\"\",\n",
    "        target_platforms= [\"WAREHOUSE\", \"SNOWPARK_CONTAINER_SERVICES\"],\n",
    "        options= {\"enable_explainability\": True}\n",
    "\n",
    "        \n",
    "\n",
    "    )\n",
    "    #Establecer métricas\n",
    "    mv_opt.set_metric(metric_name=\"Train_F1_Score\", value=f1_opt_train)\n",
    "    mv_opt.set_metric(metric_name=\"Train_Precision_Score\", value=precision_opt_train)\n",
    "    mv_opt.set_metric(metric_name=\"Train_Recall_score\", value=recall_opt_train)\n",
    "\n",
    "    mv_opt.set_metric(metric_name=\"Test_F1_Score\", value=f1_opt_test)\n",
    "    mv_opt.set_metric(metric_name=\"Test_Precision_Score\", value=precision_opt_test)\n",
    "    mv_opt.set_metric(metric_name=\"Test_Recall_score\", value=recall_opt_test)"
   ]
  },
  {
   "cell_type": "code",
   "execution_count": null,
   "id": "c4c028b9-b590-45b4-9884-35ee206bca0d",
   "metadata": {
    "codeCollapsed": false,
    "collapsed": false,
    "language": "python",
    "name": "inspect_current_default_version"
   },
   "outputs": [],
   "source": [
    "#Aquí vemos que la versión BASE es nuestra versión default\n",
    "model_registry.get_model(model_name).default"
   ]
  },
  {
   "cell_type": "code",
   "execution_count": null,
   "id": "04ac97a9-7af4-4331-bb0d-cf6ecc4a77f6",
   "metadata": {
    "codeCollapsed": false,
    "collapsed": false,
    "language": "python",
    "name": "promote_optimized_version_to_default"
   },
   "outputs": [],
   "source": [
    "#Ahora estableceremos el modelo optimizado como la versión default del modelo en adelante\n",
    "model_registry.get_model(model_name).default = optimized_version_name"
   ]
  },
  {
   "cell_type": "code",
   "execution_count": null,
   "id": "c04efcee-27e6-4423-b669-849bec7cc8fb",
   "metadata": {
    "codeCollapsed": false,
    "collapsed": false,
    "language": "python",
    "name": "see_updated_model_versions"
   },
   "outputs": [],
   "source": [
    "#Ahora vemos nuestra versión optimizada que recientemente promovimos a nuestra versión de modelo DEFAULT\n",
    "model_registry.get_model(model_name).default"
   ]
  },
  {
   "cell_type": "code",
   "execution_count": null,
   "id": "8cc92f7f-5f02-4cc5-82d0-758f65f2d485",
   "metadata": {
    "codeCollapsed": false,
    "collapsed": false,
    "language": "python",
    "name": "update_model_tags"
   },
   "outputs": [],
   "source": [
    "#ahora actualizaremos el modelo etiquetado PROD para que sea la versión optimizada del modelo en lugar de nuestra versión base sobreajustada\n",
    "m.unset_tag(\"PROD\")\n",
    "m.set_tag(\"PROD\", optimized_version_name)\n",
    "m.show_tags()"
   ]
  },
  {
   "cell_type": "markdown",
   "id": "05fff15e-5f49-4d4f-a02a-93e8f3114b11",
   "metadata": {
    "collapsed": false,
    "name": "explainability_MD"
   },
   "source": [
    "## Ahora que hemos desplegado algunas versiones de modelo y probado la inferencia... \n",
    "# ¡Expliquemos nuestros modelos!\n",
    "- ### Snowflake ofrece capacidades de explicabilidad integradas sobre los modelos registrados en el model registry\n",
    "- ### En la sección a continuación generaremos valores shapley usando estas funciones integradas para entender cómo las características de entrada impactan el comportamiento de nuestro modelo"
   ]
  },
  {
   "cell_type": "code",
   "execution_count": null,
   "id": "914f5cd6-d254-42d4-a0be-9848c9d09d4a",
   "metadata": {
    "collapsed": false,
    "language": "python",
    "name": "compute_shap_vals",
    "resultHeight": 0
   },
   "outputs": [],
   "source": [
    "#crear una muestra de 1000 registros\n",
    "test_pd_sample=test_pd.rename(columns=rename_dict).sample(n=2500, random_state = 100).reset_index(drop=True)\n",
    "\n",
    "#Calcular valores shapley para cada modelo\n",
    "base_shap_pd = mv_base.run(test_pd_sample, function_name=\"explain\")\n",
    "opt_shap_pd = mv_opt.run(test_pd_sample, function_name=\"explain\")"
   ]
  },
  {
   "cell_type": "code",
   "execution_count": null,
   "id": "f606c231-2e6a-44ec-a17c-88bb5a3b6494",
   "metadata": {
    "codeCollapsed": false,
    "language": "python",
    "name": "builtin_visualizations"
   },
   "outputs": [],
   "source": [
    "from snowflake.ml.monitoring import explain_visualize\n",
    "\n",
    "feat_df=test_pd_sample.drop([\"MORTGAGERESPONSE\",\"TIMESTAMP\", \"LOAN_ID\"],axis=1)\n",
    "\n",
    "explain_visualize.plot_influence_sensitivity(base_shap_pd, feat_df, figsize=(1500, 500))\n",
    "\n",
    "#Optionally test out other built-in functionality \n",
    "# explain_visualize.plot_force(base_shap_pd.iloc[0], feat_df.iloc[0], figsize=(1500, 500))\n",
    "# explain_visualize.plot_violin(base_shap_pd, feat_df, figsize=(1400, 100))"
   ]
  },
  {
   "cell_type": "markdown",
   "id": "7d7cfb33-1062-487d-83bc-e3d32835e0d9",
   "metadata": {
    "collapsed": false,
    "name": "shap_viz"
   },
   "source": [
    "### Además de las capacidades de visualización integradas, siempre puedes usar paquetes de código abierto como shap para visualizaciones adicionales"
   ]
  },
  {
   "cell_type": "code",
   "execution_count": null,
   "id": "f74e0dcc-a850-474a-b475-f05a77619731",
   "metadata": {
    "codeCollapsed": false,
    "collapsed": false,
    "language": "python",
    "name": "base_shap_summary_plot",
    "resultHeight": 571
   },
   "outputs": [],
   "source": [
    "import shap \n",
    "\n",
    "shap.summary_plot(np.array(base_shap_pd.astype(float)), \n",
    "                  test_pd_sample.drop([\"LOAN_ID\",\"MORTGAGERESPONSE\", \"TIMESTAMP\"], axis=1), \n",
    "                  feature_names = test_pd_sample.drop([\"LOAN_ID\",\"MORTGAGERESPONSE\", \"TIMESTAMP\"], axis=1).columns)"
   ]
  },
  {
   "cell_type": "code",
   "execution_count": null,
   "id": "67469a84-3d44-49e4-8d6e-5cd8a6e8a633",
   "metadata": {
    "codeCollapsed": false,
    "language": "python",
    "name": "opt_shap_summary_plot"
   },
   "outputs": [],
   "source": [
    "shap.summary_plot(np.array(opt_shap_pd.astype(float)), \n",
    "                  test_pd_sample.drop([\"LOAN_ID\",\"MORTGAGERESPONSE\", \"TIMESTAMP\"], axis=1), \n",
    "                  feature_names = test_pd_sample.drop([\"LOAN_ID\",\"MORTGAGERESPONSE\", \"TIMESTAMP\"], axis=1).columns)"
   ]
  },
  {
   "cell_type": "code",
   "execution_count": null,
   "id": "f3a0d4c3-750c-4ae0-9812-85b677db6986",
   "metadata": {
    "codeCollapsed": false,
    "collapsed": false,
    "language": "python",
    "name": "create_all_shap_dfs"
   },
   "outputs": [],
   "source": [
    "#Combinar valores shap y valores reales para facilitar los gráficos a continuación\n",
    "all_shap_base = test_pd_sample.merge(base_shap_pd, right_index=True, left_index=True, how='outer')\n",
    "all_shap_opt = test_pd_sample.merge(opt_shap_pd, right_index=True, left_index=True, how='outer')"
   ]
  },
  {
   "cell_type": "code",
   "execution_count": null,
   "id": "938441fd-9ae3-4f97-9a54-b7e4c74738ac",
   "metadata": {
    "codeCollapsed": false,
    "language": "python",
    "name": "plot_income_explanation"
   },
   "outputs": [],
   "source": [
    "import seaborn as sns\n",
    "import matplotlib.pyplot as plt\n",
    "\n",
    "#filtrar datos para eliminar valores atípicos\n",
    "asb_filtered = all_shap_base[(all_shap_base.INCOME>0) & (all_shap_base.INCOME<250000)]\n",
    "aso_filtered = all_shap_opt[(all_shap_opt.INCOME>0) & (all_shap_opt.INCOME<250000)]\n",
    "\n",
    "# Configurar la figura\n",
    "fig, axes = plt.subplots(1, 2, figsize=(10, 6))\n",
    "fig.suptitle(\"EXPLICACIÓN DE INGRESO\")\n",
    "# Graficar boxplots lado a lado\n",
    "sns.scatterplot(data = asb_filtered, x ='INCOME', y = 'INCOME_explanation', ax=axes[0])\n",
    "sns.regplot(data = asb_filtered, x =\"INCOME\", y = 'INCOME_explanation', scatter=False, color='red', line_kws={\"lw\":2},ci =100, lowess=False, ax =axes[0])\n",
    "\n",
    "axes[0].set_title('Modelo Base')\n",
    "sns.scatterplot(data = aso_filtered, x ='INCOME', y = 'INCOME_explanation',color = \"orange\", ax = axes[1])\n",
    "sns.regplot(data = aso_filtered, x =\"INCOME\", y = 'INCOME_explanation', scatter=False, color='blue', line_kws={\"lw\":2},ci =100, lowess=False, ax =axes[1])\n",
    "axes[1].set_title('Modelo Opt')\n",
    "\n",
    "# Personalizar y mostrar el gráfico\n",
    "for ax in axes:\n",
    "    ax.set_xlabel(\"Ingreso\")\n",
    "    ax.set_ylabel(\"Influencia\")\n",
    "plt.tight_layout()\n",
    "plt.show()\n"
   ]
  },
  {
   "cell_type": "code",
   "execution_count": null,
   "id": "2298b1f8-0495-42e1-b668-0dcd03d8bb7c",
   "metadata": {
    "codeCollapsed": false,
    "collapsed": false,
    "language": "python",
    "name": "plot_loan_amount_explanation"
   },
   "outputs": [],
   "source": [
    "#filter data down to strip outliers\n",
    "asb_filtered = all_shap_base[all_shap_base.LOAN_AMOUNT<2000000]\n",
    "aso_filtered = all_shap_opt[all_shap_opt.LOAN_AMOUNT<2000000]\n",
    "\n",
    "\n",
    "# Set up the figure\n",
    "fig, axes = plt.subplots(1, 2, figsize=(10, 6))\n",
    "fig.suptitle(\"LOAN_AMOUNT EXPLANATION\")\n",
    "# Plot side-by-side boxplots\n",
    "sns.scatterplot(data = asb_filtered, x ='LOAN_AMOUNT', y = 'LOAN_AMOUNT_explanation', ax=axes[0])\n",
    "sns.regplot(data = asb_filtered, x =\"LOAN_AMOUNT\", y = 'LOAN_AMOUNT_explanation', scatter=False, color='red', line_kws={\"lw\":2},ci =100, lowess=True, ax =axes[0])\n",
    "axes[0].set_title('Base Model')\n",
    "\n",
    "sns.scatterplot(data = aso_filtered, x ='LOAN_AMOUNT', y = 'LOAN_AMOUNT_explanation',color = \"orange\", ax = axes[1])\n",
    "sns.regplot(data = aso_filtered, x =\"LOAN_AMOUNT\", y = 'LOAN_AMOUNT_explanation', scatter=False, color='blue', line_kws={\"lw\":2},ci =100, lowess=True, ax =axes[1])\n",
    "axes[1].set_title('Opt Model')\n",
    "\n",
    "# Customize and show the plot\n",
    "for ax in axes:\n",
    "    ax.set_xlabel(\"LOAN_AMOUNT\")\n",
    "    ax.set_ylabel(\"Influence\")\n",
    "    # ax.set_xlim((0,10000))\n",
    "plt.tight_layout()\n",
    "plt.show()\n"
   ]
  },
  {
   "cell_type": "code",
   "execution_count": null,
   "id": "14a03aa9-1f1a-4a4e-809e-b22e438d72aa",
   "metadata": {
    "codeCollapsed": false,
    "collapsed": false,
    "language": "python",
    "name": "plot_home_purchase_explanation",
    "resultHeight": 851
   },
   "outputs": [],
   "source": [
    "# Set up the figure\n",
    "fig, axes = plt.subplots(1, 2, figsize=(10, 6))\n",
    "fig.suptitle(\"HOME PURCHASE LOAN EXPLANATION\")\n",
    "# Plot side-by-side boxplots\n",
    "sns.boxplot(data = all_shap_base, x ='LOAN_PURPOSE_NAME_HOME_PURCHASE', y = 'LOAN_PURPOSE_NAME_HOME_PURCHASE_explanation',\n",
    "            hue='LOAN_PURPOSE_NAME_HOME_PURCHASE', width=0.8, ax=axes[0])\n",
    "axes[0].set_title('Base Model')\n",
    "sns.boxplot(data = all_shap_opt, x ='LOAN_PURPOSE_NAME_HOME_PURCHASE', y = 'LOAN_PURPOSE_NAME_HOME_PURCHASE_explanation',\n",
    "            hue='LOAN_PURPOSE_NAME_HOME_PURCHASE', width=0.4, ax = axes[1])\n",
    "axes[1].set_title('Opt Model')\n",
    "\n",
    "# Customize and show the plot\n",
    "for ax in axes:\n",
    "    ax.set_xlabel(\"Home PURCHASE Loan (1 = True)\")\n",
    "    ax.set_ylabel(\"Influence\")\n",
    "    ax.legend(loc='upper right')\n",
    "\n",
    "plt.show()\n"
   ]
  },
  {
   "cell_type": "code",
   "execution_count": null,
   "id": "66ea7aad-4e48-4666-a48c-ddc39331cb1f",
   "metadata": {
    "codeCollapsed": false,
    "collapsed": false,
    "language": "python",
    "name": "plot_home_imrprovement_explanation"
   },
   "outputs": [],
   "source": [
    "# Set up the figure\n",
    "fig, axes = plt.subplots(1, 2, figsize=(10, 6))\n",
    "fig.suptitle(\"HOME IMPROVEMENT LOAN EXPLANATION\")\n",
    "# Plot side-by-side boxplots\n",
    "sns.boxplot(data = all_shap_base, x ='LOAN_PURPOSE_NAME_HOME_IMPROVEMENT', y = 'LOAN_PURPOSE_NAME_HOME_IMPROVEMENT_explanation',\n",
    "            hue='LOAN_PURPOSE_NAME_HOME_IMPROVEMENT', width=0.8, ax=axes[0])\n",
    "axes[0].set_title('Base Model')\n",
    "sns.boxplot(data = all_shap_opt, x ='LOAN_PURPOSE_NAME_HOME_IMPROVEMENT', y = 'LOAN_PURPOSE_NAME_HOME_IMPROVEMENT_explanation',\n",
    "            hue='LOAN_PURPOSE_NAME_HOME_IMPROVEMENT', width=0.4, ax = axes[1])\n",
    "axes[1].set_title('Opt Model')\n",
    "\n",
    "# Customize and show the plot\n",
    "for ax in axes:\n",
    "    ax.set_xlabel(\"Home Improvement Loan (1 = True)\")\n",
    "    ax.set_ylabel(\"Influence\")\n",
    "    ax.legend(loc='upper right')\n",
    "\n",
    "plt.show()\n"
   ]
  },
  {
   "cell_type": "markdown",
   "id": "df7a9ccc-e785-4a82-b9e9-97fd44d5acf2",
   "metadata": {
    "collapsed": false,
    "name": "Monitoring_section",
    "resultHeight": 74
   },
   "source": [
    "# Configuración de Model Monitoring"
   ]
  },
  {
   "cell_type": "code",
   "execution_count": null,
   "id": "e0751bdd-6c24-4c65-9247-aa90ebc1d376",
   "metadata": {
    "collapsed": false,
    "language": "python",
    "name": "create_table_from_test_data",
    "resultHeight": 0
   },
   "outputs": [],
   "source": [
    "train.write.save_as_table(f\"DEMO_MORTGAGE_LENDING_TRAIN_{VERSION_NUM}\", mode=\"overwrite\")\n",
    "test.write.save_as_table(f\"DEMO_MORTGAGE_LENDING_TEST_{VERSION_NUM}\", mode=\"overwrite\")"
   ]
  },
  {
   "cell_type": "code",
   "execution_count": null,
   "id": "aabdf2be-87f8-4556-aa42-22e4a70515e1",
   "metadata": {
    "codeCollapsed": false,
    "collapsed": false,
    "language": "python",
    "name": "create_stage",
    "resultHeight": 111
   },
   "outputs": [],
   "source": [
    "session.sql(\"CREATE stage IF NOT EXISTS ML_STAGE\").collect()"
   ]
  },
  {
   "cell_type": "code",
   "execution_count": null,
   "id": "21b2c090-5cc8-4847-982a-fb9b5e427616",
   "metadata": {
    "codeCollapsed": false,
    "collapsed": false,
    "language": "python",
    "name": "define_sproc",
    "resultHeight": 495
   },
   "outputs": [],
   "source": [
    "from snowflake import snowpark\n",
    "\n",
    "def demo_inference_sproc(session: snowpark.Session, table_name: str, modelname: str, modelversion: str) -> str:\n",
    "\n",
    "    reg = Registry(session=session)\n",
    "    m = reg.get_model(model_name)  # Obtener el modelo usando el registry\n",
    "    mv = m.version(modelversion)\n",
    "    \n",
    "    input_table_name=table_name\n",
    "    pred_col = f'{modelversion}_PREDICTION'\n",
    "\n",
    "    # Leer la tabla de entrada a un dataframe\n",
    "    df = session.table(input_table_name)\n",
    "    results = mv.run(df, function_name=\"predict\").select(\"LOAN_ID\",'\"output_feature_0\"').withColumnRenamed('\"output_feature_0\"', pred_col)\n",
    "    # 'results' es el DataFrame de salida con predicciones\n",
    "\n",
    "    final = df.join(results, on=\"LOAN_ID\", how=\"full\")\n",
    "    # Escribir resultados de vuelta a la tabla Snowflake\n",
    "    final.write.save_as_table(table_name, mode='overwrite',enable_schema_evolution=True)\n",
    "\n",
    "    return \"Success\"\n",
    "\n",
    "# Registrar el stored procedure\n",
    "session.sproc.register(\n",
    "    func=demo_inference_sproc,\n",
    "    name=\"model_inference_sproc\",\n",
    "    replace=True,\n",
    "    is_permanent=True,\n",
    "    stage_location=\"@ML_STAGE\",\n",
    "    packages=['joblib', 'snowflake-snowpark-python', 'snowflake-ml-python'],\n",
    "    return_type=StringType()\n",
    ")\n"
   ]
  },
  {
   "cell_type": "code",
   "execution_count": null,
   "id": "da45031a-917e-4f6d-a2e4-068879791819",
   "metadata": {
    "codeCollapsed": false,
    "collapsed": false,
    "language": "sql",
    "name": "gb_base_train_inference",
    "resultHeight": 111
   },
   "outputs": [],
   "source": [
    "CALL model_inference_sproc('DEMO_MORTGAGE_LENDING_TRAIN_{{VERSION_NUM}}','{{model_name}}', '{{base_version_name}}');"
   ]
  },
  {
   "cell_type": "code",
   "execution_count": null,
   "id": "0d18ea05-7d29-43a3-9baa-52509f3bb15e",
   "metadata": {
    "codeCollapsed": false,
    "collapsed": false,
    "language": "sql",
    "name": "gb_base_test_inference",
    "resultHeight": 111
   },
   "outputs": [],
   "source": [
    "CALL model_inference_sproc('DEMO_MORTGAGE_LENDING_TEST_{{VERSION_NUM}}','{{model_name}}', '{{base_version_name}}');"
   ]
  },
  {
   "cell_type": "code",
   "execution_count": null,
   "id": "c1d2550b-46c7-4eb7-adaa-64c345711b1e",
   "metadata": {
    "codeCollapsed": false,
    "collapsed": false,
    "language": "sql",
    "name": "gb_opt_train_inference",
    "resultHeight": 111
   },
   "outputs": [],
   "source": [
    "CALL model_inference_sproc('DEMO_MORTGAGE_LENDING_TRAIN_{{VERSION_NUM}}','{{model_name}}', '{{optimized_version_name}}');"
   ]
  },
  {
   "cell_type": "code",
   "execution_count": null,
   "id": "8245f482-19e9-4961-9cb2-801bf5948d52",
   "metadata": {
    "codeCollapsed": false,
    "collapsed": false,
    "language": "sql",
    "name": "gb_opt_test_inference",
    "resultHeight": 111
   },
   "outputs": [],
   "source": [
    "CALL model_inference_sproc('DEMO_MORTGAGE_LENDING_TEST_{{VERSION_NUM}}','{{model_name}}', '{{optimized_version_name}}');"
   ]
  },
  {
   "cell_type": "code",
   "execution_count": null,
   "id": "ec05048c-a9d1-4ef9-bf39-5333f3fb56cb",
   "metadata": {
    "codeCollapsed": false,
    "collapsed": false,
    "language": "sql",
    "name": "see_preds",
    "resultHeight": 251
   },
   "outputs": [],
   "source": [
    "select TIMESTAMP, LOAN_ID, INCOME, LOAN_AMOUNT, XGB_BASE_PREDICTION, XGB_OPTIMIZED_PREDICTION, MORTGAGERESPONSE \n",
    "FROM DEMO_MORTGAGE_LENDING_TEST_{{VERSION_NUM}} \n",
    "limit 20"
   ]
  },
  {
   "cell_type": "markdown",
   "id": "416c348e-0e6d-4ee3-88c3-59077b409621",
   "metadata": {
    "collapsed": false,
    "name": "model_monitor_markdown"
   },
   "source": [
    "## Ahora que nuestros modelos han sido desplegados y hemos ejecutado inferencia - ¡configuremos ML Observability!\n",
    "\n",
    "- Primero agregaremos una columna a nuestros datos de inferencia para explorar posteriormente con nuestras capacidades de segmentación \n",
    "- Definiremos un model monitor para cada modelo, con los datos de entrenamiento como nuestra línea base y los datos de prueba representando resultados de inferencia. \n",
    "- Una vez que los monitores estén definidos podemos acceder a ellos a través del Model Registry \n",
    "    - También podemos consultar métricas de drift etc. programáticamente"
   ]
  },
  {
   "cell_type": "code",
   "execution_count": null,
   "id": "a16befd0-410b-4777-bbf6-bfa3580c4973",
   "metadata": {
    "language": "sql",
    "name": "create_segment_col_test"
   },
   "outputs": [],
   "source": [
    "ALTER TABLE DEMO_MORTGAGE_LENDING_TEST_{{VERSION_NUM}}\n",
    "ADD COLUMN IF NOT EXISTS LOAN_PURPOSE VARCHAR(50);\n",
    "\n",
    "\n",
    "UPDATE DEMO_MORTGAGE_LENDING_TEST_{{VERSION_NUM}}\n",
    "SET LOAN_PURPOSE = CASE\n",
    "    WHEN LOAN_PURPOSE_NAME_HOME_IMPROVEMENT = 1 THEN 'HOME_IMPROVEMENT'\n",
    "    WHEN LOAN_PURPOSE_NAME_HOME_PURCHASE = 1 THEN 'HOME_PURCHASE'\n",
    "    WHEN LOAN_PURPOSE_NAME_REFINANCING = 1 THEN 'REFINANCING'\n",
    "    ELSE 'OTHER'\n",
    "END;"
   ]
  },
  {
   "cell_type": "code",
   "execution_count": null,
   "id": "f5a191e3-6311-4bd2-a613-5b21a1df9082",
   "metadata": {
    "language": "sql",
    "name": "create_segment_col_train"
   },
   "outputs": [],
   "source": [
    "ALTER TABLE DEMO_MORTGAGE_LENDING_TRAIN_{{VERSION_NUM}}\n",
    "ADD COLUMN IF NOT EXISTS LOAN_PURPOSE VARCHAR(50);\n",
    "\n",
    "\n",
    "UPDATE DEMO_MORTGAGE_LENDING_TRAIN_{{VERSION_NUM}}\n",
    "SET LOAN_PURPOSE = CASE\n",
    "    WHEN LOAN_PURPOSE_NAME_HOME_IMPROVEMENT = 1 THEN 'HOME_IMPROVEMENT'\n",
    "    WHEN LOAN_PURPOSE_NAME_HOME_PURCHASE = 1 THEN 'HOME_PURCHASE'\n",
    "    WHEN LOAN_PURPOSE_NAME_REFINANCING = 1 THEN 'REFINANCING'\n",
    "    ELSE 'OTHER'\n",
    "END;"
   ]
  },
  {
   "cell_type": "code",
   "execution_count": null,
   "id": "c8d51f7b-8e3e-4a30-b7c5-606986f668cd",
   "metadata": {
    "language": "sql",
    "name": "view_loan_purpose_data"
   },
   "outputs": [],
   "source": [
    "SELECT LOAN_PURPOSE_NAME_HOME_PURCHASE, LOAN_PURPOSE_NAME_HOME_IMPROVEMENT, LOAN_PURPOSE_NAME_REFINANCING, LOAN_PURPOSE FROM DEMO_MORTGAGE_LENDING_TEST_{{VERSION_NUM}} limit 10;"
   ]
  },
  {
   "cell_type": "code",
   "execution_count": null,
   "id": "2f6be548-47cb-4a91-92ee-a5f42c41e756",
   "metadata": {
    "codeCollapsed": false,
    "collapsed": false,
    "language": "sql",
    "name": "create_model_monitor_base",
    "resultHeight": 111
   },
   "outputs": [],
   "source": [
    "CREATE OR REPLACE MODEL MONITOR MORTGAGE_LENDING_BASE_MODEL_MONITOR\n",
    "WITH\n",
    "    MODEL={{model_name}}\n",
    "    VERSION={{base_version_name}}\n",
    "    FUNCTION=predict\n",
    "    SOURCE=DEMO_MORTGAGE_LENDING_TEST_{{VERSION_NUM}}\n",
    "    BASELINE=DEMO_MORTGAGE_LENDING_TRAIN_{{VERSION_NUM}}\n",
    "    TIMESTAMP_COLUMN=TIMESTAMP\n",
    "    PREDICTION_CLASS_COLUMNS=(XGB_BASE_PREDICTION)  \n",
    "    ACTUAL_CLASS_COLUMNS=(MORTGAGERESPONSE)\n",
    "    ID_COLUMNS=(LOAN_ID)\n",
    "    SEGMENT_COLUMNS = ('LOAN_PURPOSE')\n",
    "    WAREHOUSE={{COMPUTE_WAREHOUSE}}\n",
    "    REFRESH_INTERVAL='12 hours'\n",
    "    AGGREGATION_WINDOW='1 day';"
   ]
  },
  {
   "cell_type": "code",
   "execution_count": null,
   "id": "60965976-f17f-42bc-92ae-e43030bba54e",
   "metadata": {
    "codeCollapsed": false,
    "collapsed": false,
    "language": "sql",
    "name": "create_model_monitor_optimized",
    "resultHeight": 111
   },
   "outputs": [],
   "source": [
    "CREATE OR REPLACE MODEL MONITOR MORTGAGE_LENDING_OPTIMIZED_MODEL_MONITOR\n",
    "WITH\n",
    "    MODEL={{model_name}}\n",
    "    VERSION={{optimized_version_name}}\n",
    "    FUNCTION=predict\n",
    "    SOURCE=DEMO_MORTGAGE_LENDING_TEST_{{VERSION_NUM}}\n",
    "    BASELINE=DEMO_MORTGAGE_LENDING_TRAIN_{{VERSION_NUM}}\n",
    "    TIMESTAMP_COLUMN=TIMESTAMP\n",
    "    PREDICTION_CLASS_COLUMNS=(XGB_OPTIMIZED_PREDICTION)  \n",
    "    ACTUAL_CLASS_COLUMNS=(MORTGAGERESPONSE)\n",
    "    ID_COLUMNS=(LOAN_ID)\n",
    "    SEGMENT_COLUMNS = ('LOAN_PURPOSE')\n",
    "    WAREHOUSE={{COMPUTE_WAREHOUSE}}\n",
    "    REFRESH_INTERVAL='12 hours'\n",
    "    AGGREGATION_WINDOW='1 day';"
   ]
  },
  {
   "cell_type": "code",
   "execution_count": null,
   "id": "b78b0fc2-555d-458b-aa07-7053859539d4",
   "metadata": {
    "codeCollapsed": false,
    "language": "python",
    "name": "generate_model_registry_link"
   },
   "outputs": [],
   "source": [
    "#Haz clic en el enlace generado para ver tu modelo en el model registry y revisar los model monitors!\n",
    "st.write(f'https://app.snowflake.com/{org_name}/{account_name}/#/data/databases/{DB}/schemas/{SCHEMA}/model/{model_name.upper()}')"
   ]
  },
  {
   "cell_type": "code",
   "execution_count": null,
   "id": "537fc658-38f4-4c9a-980b-cf40ef61a268",
   "metadata": {
    "codeCollapsed": false,
    "language": "sql",
    "name": "compute_prediction_drift"
   },
   "outputs": [],
   "source": [
    "SELECT * FROM TABLE(MODEL_MONITOR_DRIFT_METRIC(\n",
    "'MORTGAGE_LENDING_BASE_MODEL_MONITOR', -- model monitor to use\n",
    "'DIFFERENCE_OF_MEANS', -- metric for computing drift\n",
    "'XGB_BASE_PREDICTION', -- comlumn to compute drift on\n",
    "'1 DAY',  -- day granularity for drift computation\n",
    "DATEADD(DAY, -90, CURRENT_DATE()), -- end date\n",
    "DATEADD(DAY, -60, CURRENT_DATE()) -- start date\n",
    ")\n",
    ")"
   ]
  },
  {
   "cell_type": "markdown",
   "id": "7b8f8d88-1ebe-4622-89ca-39bce08473d4",
   "metadata": {
    "collapsed": false,
    "name": "SPCS_MD"
   },
   "source": [
    "# Configuración de Despliegue SPCS (OPCIONAL)\n",
    "## Esto está deshabilitado por defecto pero descomentar las celdas de código a continuación permitirá a un usuario \n",
    "\n",
    "- ### Crear un nuevo compute pool con 3 nodos CPU XL\n",
    "- ### Desplegar un servicio sobre nuestra versión de modelo HPO existente\n",
    "- ### Probar inferencia en el container service recién creado\n"
   ]
  },
  {
   "cell_type": "code",
   "execution_count": null,
   "id": "c416a4d0-a95f-4702-9a61-26b61706eb11",
   "metadata": {
    "collapsed": false,
    "language": "python",
    "name": "define_spcs_vars"
   },
   "outputs": [],
   "source": [
    "cp_name = \"MORTGAGE_LENDING_INFERENCE_CP\"\n",
    "num_spcs_nodes = '2'\n",
    "spcs_instance_family = 'CPU_X64_L'\n",
    "service_name = 'MORTGAGE_LENDING_PREDICTION_SERVICE'\n",
    "\n",
    "current_database = session.get_current_database().replace('\"', '')\n",
    "current_schema = session.get_current_schema().replace('\"', '')\n",
    "extended_service_name = f'{current_database}.{current_schema}.{service_name}'"
   ]
  },
  {
   "cell_type": "code",
   "execution_count": null,
   "id": "448f6702-8fb2-4aac-9e54-a8673c064074",
   "metadata": {
    "codeCollapsed": false,
    "language": "python",
    "name": "setup_compute_pool"
   },
   "outputs": [],
   "source": [
    "session.sql(f\"alter compute pool if exists {cp_name} stop all\").collect()\n",
    "session.sql(f\"drop compute pool if exists {cp_name}\").collect()\n",
    "session.sql(f\"create compute pool {cp_name} min_nodes={num_spcs_nodes} max_nodes={num_spcs_nodes} instance_family={spcs_instance_family} auto_resume=True auto_suspend_secs=300\").collect()\n",
    "session.sql(f\"describe compute pool {cp_name}\").show()"
   ]
  },
  {
   "cell_type": "code",
   "execution_count": null,
   "id": "df47725b-e9e7-4f93-bdea-9db09794bd95",
   "metadata": {
    "codeCollapsed": false,
    "collapsed": false,
    "language": "python",
    "name": "spcs_deploy_service"
   },
   "outputs": [],
   "source": [
    "#nota: esto puede tomar hasta 5 minutos en ejecutarse\n",
    "\n",
    "mv_opt.create_service(\n",
    "    service_name=extended_service_name,\n",
    "    service_compute_pool=cp_name,\n",
    "    ingress_enabled=True,\n",
    "    max_instances=int(num_spcs_nodes)\n",
    ")"
   ]
  },
  {
   "cell_type": "code",
   "execution_count": null,
   "id": "25c4f6d4-b16b-4448-bcf3-4f128ccfbe43",
   "metadata": {
    "codeCollapsed": false,
    "language": "python",
    "name": "see_model_versions_with_services"
   },
   "outputs": [],
   "source": [
    "model_registry.get_model(f\"MORTGAGE_LENDING_MLOPS_{VERSION_NUM}\").show_versions()"
   ]
  },
  {
   "cell_type": "code",
   "execution_count": null,
   "id": "c5eb9b1a-0741-4e9d-aaf4-2da26c44ffbd",
   "metadata": {
    "codeCollapsed": false,
    "collapsed": false,
    "language": "python",
    "name": "run_SPCS_inference"
   },
   "outputs": [],
   "source": [
    "mv_container = model_registry.get_model(f\"MORTGAGE_LENDING_MLOPS_{VERSION_NUM}\").default\n",
    "mv_container.run(test, function_name = \"predict\", service_name = \"MORTGAGE_LENDING_PREDICTION_SERVICE\").rename('\"output_feature_0\"', 'XGB_PREDICTION')"
   ]
  },
  {
   "cell_type": "code",
   "execution_count": null,
   "id": "b4e97fa5-d50c-40c8-a5a9-6135a4162adf",
   "metadata": {
    "language": "sql",
    "name": "view_endpoints"
   },
   "outputs": [],
   "source": [
    "SHOW ENDPOINTS IN SERVICE E2E_SNOW_MLOPS_DB.MLOPS_SCHEMA.MORTGAGE_LENDING_PREDICTION_SERVICE"
   ]
  },
  {
   "cell_type": "code",
   "execution_count": null,
   "id": "35388bca-f70f-47db-a3ef-3558dda91502",
   "metadata": {
    "codeCollapsed": false,
    "language": "python",
    "name": "stop_compute_pool"
   },
   "outputs": [],
   "source": [
    "#Detener el servicio para ahorrar costos\n",
    "# session.sql(f\"alter compute pool if exists {cp_name} stop all\").collect()"
   ]
  },
  {
   "cell_type": "markdown",
   "id": "ce110000-1111-2222-3333-ffffff000036",
   "metadata": {
    "collapsed": false,
    "jp-MarkdownHeadingCollapsed": true,
    "name": "conclusion",
    "resultHeight": 202,
    "tags": []
   },
   "source": [
    "## Conclusión \n",
    "\n",
    "#### 🛠️ Feature Store de Snowflake rastrea definiciones de características y mantiene el linaje de orígenes y destinos 🛠️\n",
    "#### 🚀 Model Registry de Snowflake proporciona a los usuarios un framework seguro y flexible para registrar modelos, etiquetar candidatos para producción y ejecutar trabajos de inferencia y explicabilidad 🚀\n",
    "#### 📈 La observabilidad ML en Snowflake permite a los usuarios monitorear el rendimiento del modelo a lo largo del tiempo y detectar drift de modelo, características y concepto 📈\n",
    "#### 🔮 Todos los modelos registrados en el Model Registry pueden ser accedidos para inferencia, explicabilidad, seguimiento de linaje, visibilidad y más 🔮\n"
   ]
  },
  {
   "cell_type": "markdown",
   "id": "7ed66e43-9843-4c08-ab02-99ede0155464",
   "metadata": {
    "name": "cell2"
   },
   "source": []
  }
 ],
 "metadata": {
  "kernelspec": {
   "display_name": "Python37 (ipykernel)",
   "language": "python",
   "name": "python3"
  },
  "language_info": {
   "codemirror_mode": {
    "name": "ipython",
    "version": 3
   },
   "file_extension": ".py",
   "mimetype": "text/x-python",
   "name": "python",
   "nbconvert_exporter": "python",
   "pygments_lexer": "ipython3",
   "version": "3.9.7"
  },
  "lastEditStatus": {
   "authorEmail": "elliott.botwick@snowflake.com",
   "authorId": "1251484934652",
   "authorName": "EBOTWICK",
   "lastEditTime": 1759941869988,
   "notebookId": "xu5sw4xr5aasgykuofzy",
   "sessionId": "c054ffcc-3656-4d13-8581-f9ce309ce063"
  }
 },
 "nbformat": 4,
 "nbformat_minor": 4
}
