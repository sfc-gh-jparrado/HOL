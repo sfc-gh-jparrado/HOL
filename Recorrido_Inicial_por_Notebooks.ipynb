{
 "metadata": {
  "kernelspec": {
   "display_name": "Streamlit Notebook",
   "name": "streamlit"
  },
  "lastEditStatus": {
   "notebookId": "ztapabcp7miie2dzf24w",
   "authorId": "346180102309",
   "authorName": "JPARRADO",
   "authorEmail": "jorge.parrado@snowflake.com",
   "sessionId": "55aee38c-de6b-420a-aad8-3ebf5bac2972",
   "lastEditTime": 1743024965023
  }
 },
 "nbformat_minor": 5,
 "nbformat": 4,
 "cells": [
  {
   "cell_type": "markdown",
   "id": "3e886713-6ff9-4064-84d3-9c2480d3d3a9",
   "metadata": {
    "collapsed": false,
    "name": "intro_md"
   },
   "source": "# Bienvenidos a :snowflake: Notebooks de Snowflake :notebook:\n\n¡Lleva tu análisis de datos al siguiente nivel trabajando con Python y SQL sin problemas en [Snowflake Notebooks](https://docs.snowflake.com/LIMITEDACCESS/snowsight-notebooks/ui-snowsight-notebooks-about)! ⚡️\n\n¡Aquí tienes un cuaderno rápido para comenzar con tu primer proyecto! 🚀"
  },
  {
   "cell_type": "markdown",
   "id": "b100c4f5-3947-4d38-a399-a7848a1be6bf",
   "metadata": {
    "collapsed": false,
    "name": "packages_md"
   },
   "source": "## Añadiendo Paquetes de Python 🎒\n\nLos Notebooks vienen preinstalados con bibliotecas comunes de Python para ciencia de datos 🧪 y aprendizaje automático 🧠, como numpy, pandas, matplotlib, ¡y más!\n\nSi deseas utilizar otros paquetes, haz clic en el menú desplegable `Packages` en la parte superior derecha para agregar paquetes adicionales a tu notebook.\n\nPara el propósito de esta demostración, los paquetes `matplotlib` y `scipy` se agregaron como parte de environment.yml al crear el Notebook."
  },
  {
   "cell_type": "code",
   "execution_count": null,
   "id": "75d25856-380e-4e01-831c-47189920d1fa",
   "metadata": {
    "codeCollapsed": false,
    "language": "python",
    "name": "packages"
   },
   "outputs": [],
   "source": [
    "# Import Python packages used in this notebook\n",
    "import streamlit as st\n",
    "import altair as alt\n",
    "\n",
    "# Pre-installed libraries that comes with the notebook\n",
    "import pandas as pd\n",
    "import numpy as np\n",
    "\n",
    "# Package that we just added\n",
    "import matplotlib.pyplot as plt"
   ]
  },
  {
   "cell_type": "markdown",
   "id": "8ff8e747-4a94-4f91-a971-e0f86bdc073a",
   "metadata": {
    "collapsed": false,
    "name": "sql_querying_md"
   },
   "source": "## Consulta SQL al alcance de tu mano 💡\n\nPodemos cambiar fácilmente entre Python y SQL en la misma hoja de trabajo.\n\nEscribamos algo de SQL para generar datos de muestra con los que jugar."
  },
  {
   "cell_type": "code",
   "execution_count": null,
   "id": "726b8b95-674b-4191-a29d-2c850f27fd68",
   "metadata": {
    "codeCollapsed": false,
    "collapsed": false,
    "language": "sql",
    "name": "sql_querying"
   },
   "outputs": [],
   "source": [
    "-- Generating a synthetic dataset of Snowboard products, along with their price and rating\n",
    "SELECT CONCAT('SNOW-',UNIFORM(1000,9999, RANDOM())) AS PRODUCT_ID, \n",
    "       ABS(NORMAL(5, 3, RANDOM())) AS RATING, \n",
    "       ABS(NORMAL(750, 200::FLOAT, RANDOM())) AS PRICE\n",
    "FROM TABLE(GENERATOR(ROWCOUNT => 100));"
   ]
  },
  {
   "cell_type": "markdown",
   "id": "a42cefaa-d16b-4eb7-8a7e-f297095351b1",
   "metadata": {
    "collapsed": false,
    "name": "cell_querying_python_md"
   },
   "source": "## De Vuelta a Trabajar en Python 🐍\n\nPuedes darle un nombre a las celdas y referirte a su salida en celdas posteriores.\n\nPodemos acceder a los resultados de SQL directamente en Python y convertir los resultados en un dataframe de pandas. 🐼\n\n```python\n# Accede a la salida de la celda SQL como un dataframe de Snowpark\nmy_snowpark_df = sql_querying.to_df()\n```\n\n```python\n# Convierte la salida de una celda SQL en un dataframe de pandas\nmy_df = sql_querying.to_pandas()\n```"
  },
  {
   "cell_type": "code",
   "execution_count": null,
   "id": "f2338253-c62a-4da1-b52b-569f23282689",
   "metadata": {
    "codeCollapsed": false,
    "collapsed": false,
    "language": "python",
    "name": "cell_querying_python"
   },
   "outputs": [],
   "source": "df = sql_querying.to_pandas()\ndf"
  },
  {
   "cell_type": "markdown",
   "id": "4319acb1-dc60-4087-94dd-6f661e8d532c",
   "metadata": {
    "collapsed": false,
    "name": "visualize_md"
   },
   "source": "## 📊 Visualiza tus datos\n\nPodemos usar [Altair](https://altair-viz.github.io/) para visualizar fácilmente la distribución de nuestros datos como un histograma."
  },
  {
   "cell_type": "code",
   "execution_count": null,
   "id": "79fb2295-2bc6-41ce-b801-ed2dcc1162a0",
   "metadata": {
    "codeCollapsed": false,
    "collapsed": false,
    "language": "python",
    "name": "visualize"
   },
   "outputs": [],
   "source": [
    "# Let's plot the results with Altair\n",
    "chart = alt.Chart(df,title=\"Rating Distribution\").mark_bar().encode(\n",
    "    alt.X(\"RATING\", bin=alt.Bin(step=2)),\n",
    "    y='count()',\n",
    ")\n",
    "\n",
    "st.altair_chart(chart)"
   ]
  },
  {
   "cell_type": "markdown",
   "id": "17a6cbb1-5488-445b-a81f-5caec127b519",
   "metadata": {
    "collapsed": false,
    "name": "plotting_md"
   },
   "source": "Digamos que deseas personalizar tu gráfico y trazar la estimación de densidad del kernel (KDE) y la mediana. Podemos usar matplotlib para trazar la distribución de precios. Ten en cuenta que el comando `.plot` usa `scipy` internamente para calcular el perfil KDE, que agregamos como paquete anteriormente en este tutorial."
  },
  {
   "cell_type": "code",
   "execution_count": null,
   "id": "e0b78b8f-3de6-4863-9eec-d07c0e848d67",
   "metadata": {
    "codeCollapsed": false,
    "collapsed": false,
    "language": "python",
    "name": "plotting"
   },
   "outputs": [],
   "source": [
    "fig, ax = plt.subplots(figsize = (6,3))\n",
    "plt.tick_params(left = False, right = False , labelleft = False) \n",
    "\n",
    "price = df[\"PRICE\"]\n",
    "price.plot(kind = \"hist\", density = True, bins = 15)\n",
    "price.plot(kind=\"kde\", color='#c44e52')\n",
    "\n",
    "\n",
    "# Calculate percentiles\n",
    "median = price.median()\n",
    "ax.axvline(median,0, color='#dd8452', ls='--')\n",
    "ax.text(median,0.8, f'Median: {median:.2f}  ',\n",
    "        ha='right', va='center', color='#dd8452', transform=ax.get_xaxis_transform())\n",
    "\n",
    "# Make our chart pretty\n",
    "plt.style.use(\"bmh\")\n",
    "plt.title(\"Price Distribution\")\n",
    "plt.xlabel(\"PRICE (binned)\")\n",
    "left, right = plt.xlim()   \n",
    "plt.xlim((0, right))  \n",
    "# Remove ticks and spines\n",
    "ax.tick_params(left = False, bottom = False)\n",
    "for ax, spine in ax.spines.items():\n",
    "    spine.set_visible(False)\n",
    "\n",
    "plt.show()"
   ]
  },
  {
   "cell_type": "markdown",
   "id": "794ab8c4-7725-44b0-bec8-72dc48bb7b89",
   "metadata": {
    "collapsed": false,
    "name": "snowpark_md"
   },
   "source": "## Trabajando con datos usando Snowpark 🛠️\n\nAdemás de usar tus bibliotecas de ciencia de datos de Python favoritas, también puedes usar la [API de Snowpark](https://docs.snowflake.com/en/developer-guide/snowpark/index) para consultar y procesar tus datos a escala dentro del Notebook.\n\nPrimero, puedes obtener tu variable de sesión directamente a través de la sesión activa del notebook. La variable de sesión es el punto de entrada que te da acceso al uso de la API de Python de Snowflake."
  },
  {
   "cell_type": "code",
   "execution_count": null,
   "id": "3775908f-ca36-4846-8f38-5adca39217f2",
   "metadata": {
    "codeCollapsed": false,
    "language": "python",
    "name": "snowpark"
   },
   "outputs": [],
   "source": [
    "from snowflake.snowpark.context import get_active_session\n",
    "session = get_active_session()"
   ]
  },
  {
   "cell_type": "markdown",
   "id": "0573e8eb-70fd-4a3a-b96e-07dc53a0c21b",
   "metadata": {
    "collapsed": false,
    "name": "snowpark2_md"
   },
   "source": "Por ejemplo, podemos usar Snowpark para guardar nuestro dataframe de pandas de nuevo en una tabla en Snowflake. 💾"
  },
  {
   "cell_type": "code",
   "execution_count": null,
   "id": "7acbc323-c2ec-44c9-a846-3f47c218af1e",
   "metadata": {
    "codeCollapsed": false,
    "collapsed": false,
    "language": "python",
    "name": "snowpark2"
   },
   "outputs": [],
   "source": [
    "session.write_pandas(df,\"SNOW_CATALOG\",auto_create_table=True, table_type=\"temp\")"
   ]
  },
  {
   "cell_type": "markdown",
   "id": "471a58ea-eddd-456e-b94d-8d09ce330738",
   "metadata": {
    "collapsed": false,
    "name": "snowpark3_md"
   },
   "source": "Ahora que la tabla `SNOW_CATALOG` ha sido creada, podemos cargar la tabla usando la siguiente sintaxis:\n\n```python\ndf = session.table(\"<DATABASE_NAME>.<SCHEMA_NAME>.<TABLE_NAME>\")\n```\n\nSi tu sesión ya está configurada en la base de datos y el esquema para la tabla a la que deseas acceder, entonces puedes hacer referencia al nombre de la tabla directamente."
  },
  {
   "cell_type": "code",
   "execution_count": null,
   "id": "c695373e-ac74-4b62-a1f1-08206cbd5c81",
   "metadata": {
    "codeCollapsed": false,
    "collapsed": false,
    "language": "python",
    "name": "snowpark3"
   },
   "outputs": [],
   "source": "df = session.table(\"SNOW_CATALOG\")"
  },
  {
   "cell_type": "markdown",
   "id": "6af5c4af-7432-400c-abc3-53d0ca098362",
   "metadata": {
    "name": "snowpark4_md",
    "collapsed": false
   },
   "source": "Una vez que hemos cargado la tabla, podemos llamar a [`describe`](https://docs.snowflake.com/en/developer-guide/snowpark/reference/python/latest/snowpark/api/snowflake.snowpark.DataFrame.describe) de Snowpark para calcular estadísticas descriptivas básicas."
  },
  {
   "cell_type": "code",
   "id": "d636ed2e-5030-4661-99c8-96b086d25530",
   "metadata": {
    "language": "python",
    "name": "snowpark4",
    "codeCollapsed": false
   },
   "outputs": [],
   "source": "df.describe()",
   "execution_count": null
  },
  {
   "cell_type": "markdown",
   "id": "6d4ccea6-a7f6-4c3b-8dcc-920701efb2e7",
   "metadata": {
    "collapsed": false,
    "name": "variables_md"
   },
   "source": "## Usando variables de Python en celdas SQL 🔖\n\nPuedes usar la sintaxis Jinja `{{..}}` para referirte a variables de Python dentro de tus consultas SQL de la siguiente manera.\n\n```python\nthreshold = 5\n```\n\n```\n-- Referencia a la variable de Python en SQL\nSELECT * FROM SNOW_CATALOG where RATING > {{threshold}}\n```\nDel mismo modo, puedes hacer referencia a un dataframe de Pandas dentro de tu declaración SQL:\n```\n-- Filtrando desde un dataframe de Pandas\nSELECT * FROM {{my_df}} where VAR = 6\n```\n\nPongamos esto en práctica para generar una distribución de valores para las clasificaciones basadas en los valores de media y desviación estándar que establecimos con Python."
  },
  {
   "cell_type": "code",
   "execution_count": null,
   "id": "3fb85963-53ea-46b6-be96-c164c397539a",
   "metadata": {
    "codeCollapsed": false,
    "language": "python",
    "name": "variables"
   },
   "outputs": [],
   "source": [
    "mean = 5 \n",
    "stdev = 3"
   ]
  },
  {
   "cell_type": "code",
   "execution_count": null,
   "id": "ed64f767-a598-42d2-966a-a2414ad3ecb4",
   "metadata": {
    "codeCollapsed": false,
    "collapsed": false,
    "language": "sql",
    "name": "variables2"
   },
   "outputs": [],
   "source": [
    "-- Note how we use the Python variables `mean` and `stdev` to populate the SQL query\n",
    "-- Note how the Python variables dynamically populate the SQL query\n",
    "CREATE OR REPLACE TABLE SNOW_CATALOG AS \n",
    "SELECT CONCAT('SNOW-',UNIFORM(1000,9999, RANDOM())) AS PRODUCT_ID, \n",
    "       ABS(NORMAL({{mean}}, {{stdev}}, RANDOM())) AS RATING, \n",
    "       ABS(NORMAL(750, 200::FLOAT, RANDOM())) AS PRICE\n",
    "FROM TABLE(GENERATOR(ROWCOUNT => 100));"
   ]
  },
  {
   "cell_type": "code",
   "execution_count": null,
   "id": "8f1e59cc-3d51-41c9-bd8d-2f600e7c6b61",
   "metadata": {
    "codeCollapsed": false,
    "language": "sql",
    "name": "variables3"
   },
   "outputs": [],
   "source": [
    "SELECT * FROM SNOW_CATALOG;"
   ]
  },
  {
   "cell_type": "markdown",
   "id": "67f4ed30-1eca-469e-b970-27b06affb526",
   "metadata": {
    "collapsed": false,
    "name": "subqueries_md"
   },
   "source": "### ¡Sube de nivel tu juego de subconsultas! 🧑‍🎓\n\nPuedes simplificar subconsultas largas con [CTEs](https://docs.snowflake.com/en/user-guide/queries-cte) combinando lo que hemos aprendido con la referencia de resultados de celdas de Python y SQL.\n\nPor ejemplo, si queremos calcular la calificación promedio de todos los productos con calificaciones superiores a 5. Normalmente tendríamos que escribir algo como lo siguiente:\n"
  },
  {
   "cell_type": "code",
   "execution_count": null,
   "id": "5fab80f9-2903-410c-ac01-a08f9746c1e6",
   "metadata": {
    "codeCollapsed": false,
    "collapsed": false,
    "language": "sql",
    "name": "subqueries"
   },
   "outputs": [],
   "source": [
    "WITH RatingsAboveFive AS (\n",
    "    SELECT RATING\n",
    "    FROM SNOW_CATALOG\n",
    "    WHERE RATING > 5\n",
    ")\n",
    "SELECT AVG(RATING) AS AVG_RATING_ABOVE_FIVE\n",
    "FROM RatingsAboveFive;"
   ]
  },
  {
   "cell_type": "markdown",
   "id": "cd954592-93ba-4919-a7d2-2659d63a87dc",
   "metadata": {
    "collapsed": false,
    "name": "subqueries2_md"
   },
   "source": "Con Snowflake Notebooks, ¡la consulta es mucho más simple! Puedes obtener el mismo resultado filtrando una tabla SQL desde otra celda SQL haciendo referencia a ella con Jinja, p.ej., `{{my_cell}}`."
  },
  {
   "cell_type": "code",
   "execution_count": null,
   "id": "5828a1ef-2270-482e-81fc-d97c85823e43",
   "metadata": {
    "codeCollapsed": false,
    "collapsed": false,
    "language": "sql",
    "name": "subqueries2"
   },
   "outputs": [],
   "source": "SELECT AVG(RATING) FROM {{variables3}}\nWHERE RATING > 5"
  },
  {
   "cell_type": "markdown",
   "id": "e1d99691-578d-4df2-a1c1-cde4ee7e1cd0",
   "metadata": {
    "collapsed": false,
    "name": "streamlit_md"
   },
   "source": "## Creando una aplicación interactiva con Streamlit 🪄\n\nJuntando todo esto, construyamos una aplicación Streamlit para explorar cómo diferentes parámetros impactan la forma del histograma de distribución de datos."
  },
  {
   "cell_type": "code",
   "execution_count": null,
   "id": "9fe67464-68f5-4bcf-a40d-684a58e3a44d",
   "metadata": {
    "codeCollapsed": false,
    "collapsed": false,
    "language": "python",
    "name": "streamlit"
   },
   "outputs": [],
   "source": "import streamlit as st\nst.markdown(\"# Mueve los filtros y observa cómo se actualizan los resultados.! 👇\")\ncol1, col2 = st.columns(2)\nwith col1:\n    mean = st.slider('Media de distribución de las calificaciones',0,10,3) \nwith col2:\n    stdev = st.slider('Desviacion estandar de distribución de las calificaciones', 0, 10, 5)\n\nquery =f'''CREATE OR REPLACE TABLE SNOW_CATALOG AS \nSELECT CONCAT('SNOW-',UNIFORM(1000,9999, RANDOM())) AS PRODUCT_ID, \n       ABS(NORMAL({mean}, {stdev}, RANDOM())) AS RATING, \n       ABS(NORMAL(750, 200::FLOAT, RANDOM())) AS PRICE\nFROM TABLE(GENERATOR(ROWCOUNT => 100));'''\nsession.sql(query).collect()\n\n\n# Read table from Snowpark and plot the results\ndf = session.table(\"SNOW_CATALOG\").to_pandas()\n# Let's plot the results with Altair\nalt.Chart(df).mark_bar().encode(\n    alt.X(\"RATING\", bin=alt.Bin(step=2)),\n    y='count()',\n)"
  },
  {
   "cell_type": "markdown",
   "id": "b33cd696-cd03-4018-9be5-7d7dfaa730c1",
   "metadata": {
    "collapsed": false,
    "name": "shortcuts_md"
   },
   "source": "## Puedes ser más rápido con atajos de teclado 🏃\n\nEstos atajos pueden ayudarte a navegar por tu notebook más rápidamente.\n\n| Comando                     | Atajo            |\n| --------------------------- | ---------------- |\n| **Ejecutar esta celda y avanzar** | SHIFT + ENTER    |\n| **Ejecutar solo esta celda**   | CMD + ENTER      |\n| **Ejecutar todas las celdas** | CMD + SHIFT + ENTER |\n| **Agregar celda ABAJO**     | b                |\n| **Agregar celda ARRIBA**    | a                |\n| **Eliminar esta celda**     | d+d              |\n\n\\\nPuedes ver la lista completa de atajos haciendo clic en el botón `?` en la parte inferior derecha."
  },
  {
   "cell_type": "code",
   "execution_count": null,
   "id": "1e571490-2a0a-4bbc-9413-db5520d74cce",
   "metadata": {
    "codeCollapsed": false,
    "language": "sql",
    "name": "cleanup"
   },
   "outputs": [],
   "source": [
    "-- Teardown code to cleanup environment after tutorial\n",
    "DROP TABLE SNOW_CATALOG;"
   ]
  },
  {
   "cell_type": "markdown",
   "id": "c0aa866e-7fd4-449a-a0b4-51e76b03f751",
   "metadata": {
    "collapsed": false,
    "name": "nextsteps_md"
   },
   "source": "## ¡Sigue explorando Notebooks! 🧭\n\n¡Consulta nuestra [galería de notebooks de ejemplo](https://github.com/Snowflake-Labs/notebook-demo) y [documentación](https://docs.snowflake.com/LIMITEDACCESS/snowsight-notebooks/ui-snowsight-notebooks-about) para obtener más información!"
  }
 ]
}
